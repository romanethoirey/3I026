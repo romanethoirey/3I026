{
 "cells": [
  {
   "cell_type": "markdown",
   "metadata": {},
   "source": [
    "IA & Data science (3i026) -- 2018-2019\n",
    "--------\n",
    "*&copy; Equipe pédagogique: Manon Ansart, Vincent Guigue, Marie-Jeanne Lesot, Christophe Marsala, Olivier Schwander.*\n"
   ]
  },
  {
   "cell_type": "markdown",
   "metadata": {},
   "source": [
    "# TD-TME02: les k-plus proches voisins (*k-NN*)"
   ]
  },
  {
   "cell_type": "markdown",
   "metadata": {},
   "source": [
    "<font size=\"+1\" color=\"RED\">**[Q]**</font> **Indiquer dans la boîte ci-dessous vos noms et prénoms :**"
   ]
  },
  {
   "cell_type": "markdown",
   "metadata": {},
   "source": [
    "Imane Benchara, Romane Thoirey"
   ]
  },
  {
   "cell_type": "markdown",
   "metadata": {},
   "source": [
    "<font color=\"RED\" size=\"+1\">**[Q]**</font> **Renommer ce fichier ipython**\n",
    "\n",
    "Tout en haut de cette page, cliquer sur <tt>tme-02</tt> et rajouter à la suite de <tt>tme-02</tt> les noms des membres du binômes séparés par un tiret.\n",
    "\n",
    "Par exemple, pour le binôme Luke Skywalker et Han Solo, le nom de fichier devient : <pre>tme-02-Skywalker-Solo</pre>\n",
    "\n",
    "Penser à sauvegarder fréquemment le fichier en cours de travail :\n",
    "- soit en cliquant sur l'icône \"disquette\"\n",
    "- soit par la combinaison de touches [Ctrl]-S"
   ]
  },
  {
   "cell_type": "markdown",
   "metadata": {},
   "source": [
    "<font color=\"RED\" size=\"+1\">IMPORTANT: soumission de votre fichier final</font>\n",
    "\n",
    "**Nom à donner au fichier à poster** : *tme-02-Nom1_Nom2.ipynb* \n",
    "- *Nom1* et *Nom2* : noms des membres du binôme\n",
    "- ne pas compresser ou faire une archive: il faut rendre le fichier ipython tel quel, éventuellement, si vous avez d'autres fichiers vous les rendez séparément.\n",
    "\n",
    "**Echancier pour la soumission de votre compte-rendu:**\n",
    "- le compte-rendu d'une séance doit être remis obligatoirement <font color=\"RED\">** à la fin de la séance**</font>. C'est ce compte-rendu qui donne la note de base de la séance.\n",
    "- vous pouvez éventuellement compléter votre compte-rendu  pour obtenir des points bonus, dans ce cas, vous devez soumettre votre complément avant le début de la semaine suivante.\n",
    "\n",
    "** Sur la page Moodle de remise du travail <font color=\"RED\">ne pas oublier d'envoyer le compte rendu</font>** à la fin de la séance, la soumission de la version complémentaire post-séance se fera sur une page différente."
   ]
  },
  {
   "cell_type": "markdown",
   "metadata": {},
   "source": [
    "## Présentation ##\n",
    "\n",
    "Dans ce TME, nous allons mettre en place une \"architecture\" de code nous permettant petit à petit de tester différents modèles d'apprentissage supervisé et programmer les k-NN. Nous allons nous restreindre au cas binaire où les données sont étiquetées $+1$ ou $-1$.\n",
    "\n",
    "\n",
    "### Objectifs de ce TME 1\n",
    "\n",
    "Le travail à réaliser est le suivant :\n",
    "- apprendre à utiliser jupyter notebook\n",
    "- se documenter sur les structures de données qui seront utilisées pour programmer tout au long du semestre\n",
    "- implémenter des fonctions pour les mesures vues en cours "
   ]
  },
  {
   "cell_type": "code",
   "execution_count": 33,
   "metadata": {},
   "outputs": [],
   "source": [
    "import numpy as np\n",
    "import pandas as pd\n",
    "from datetime import datetime as dt\n",
    "import matplotlib.pyplot as plt\n",
    "%matplotlib inline  "
   ]
  },
  {
   "cell_type": "markdown",
   "metadata": {},
   "source": [
    "**Remarque :** La concaténation de vecteurs s'obtient à l'aide de la fonction `vstack` de numpy."
   ]
  },
  {
   "cell_type": "code",
   "execution_count": 34,
   "metadata": {},
   "outputs": [
    {
     "data": {
      "text/plain": [
       "array([[ 0.  ,  1.5 ,  4.2 ],\n",
       "       [ 1.1 ,  3.8 , 20.01],\n",
       "       [ 1.1 ,  5.3 , 24.21]])"
      ]
     },
     "execution_count": 34,
     "metadata": {},
     "output_type": "execute_result"
    }
   ],
   "source": [
    "# Exemple d'utilisation de vstack (pour plus de détails, chercher la documentation sur le web)\n",
    "\n",
    "vecteur_1 = np.array([0, 1.5, 4.2])\n",
    "vecteur_2 = np.array([1.1, 3.8, 20.01])\n",
    "\n",
    "vecteur_3 = vecteur_1 + vecteur_2\n",
    "\n",
    "np.vstack( (vecteur_1, vecteur_2, vecteur_3) )"
   ]
  },
  {
   "cell_type": "markdown",
   "metadata": {},
   "source": [
    "### Représentation orientée objets\n",
    "\n",
    "\n",
    "Pour implémenter nos algorithmes d'apprentissage et pour représenter les données, nous allons utiliser quelques éléments de programmation orientée objet (POO) qu'autorise le langage Python. \n",
    "\n",
    "Si vous ne connaissez rien à la POO, il est fortement conseillé de lire une documentation ou suivre un tutorial sur le web (par exemple, http://apprendre-python.com/page-apprendre-programmation-orientee-objet-poo-classes-python-cours-debutants).\n"
   ]
  },
  {
   "cell_type": "markdown",
   "metadata": {},
   "source": [
    "## Étape 1: dataset\n",
    "\n",
    "La première étape consiste à définir une classe, la classe LabelSet, pour stocker les données d'apprentissage, de validation et de test. Nous considérerons que les données tiennent en mémoire.\n",
    "\n",
    "La classe LabelSet sert donc à stocker des couples $\\{(x_1,y_1),...,(x_n,y_n)\\}$. Les $x_i$ et $y_i$ seront des tableaux numpy.\n",
    "\n",
    "**A noter : ** la méthode <tt>\\_\\_init\\_\\_</tt> est le constructeur de la classe.\n"
   ]
  },
  {
   "cell_type": "code",
   "execution_count": 35,
   "metadata": {},
   "outputs": [],
   "source": [
    "class LabeledSet:  \n",
    "    \"\"\" Classe pour représenter un ensemble d'exemples (base d'apprentissage)\n",
    "        Variables d'instance :\n",
    "            - input_dimension (int) : dimension de la description d'un exemple (x)\n",
    "            - nb_examples (int) : nombre d'exemples dans l'ensemble\n",
    "    \"\"\"\n",
    "    \n",
    "    def __init__(self, input_dimension):\n",
    "        \"\"\" Constructeur de LabeledSet\n",
    "            Argument: \n",
    "                - intput_dimension (int) : dimension de x\n",
    "            Hypothèse : input_dimension > 0\n",
    "        \"\"\"\n",
    "        self.input_dimension = input_dimension\n",
    "        self.nb_examples = 0\n",
    "    \n",
    "    def addExample(self,vector,label):\n",
    "        \"\"\" Ajout d'un exemple dans l'ensemble\n",
    "            Argument: \n",
    "                - vector ()\n",
    "                - label (int) : classe de l'exemple (+1 ou -1)\n",
    "            \n",
    "        \"\"\"\n",
    "        if (self.nb_examples == 0):\n",
    "            self.x = np.array([vector])\n",
    "            self.y = np.array([label])\n",
    "        else:\n",
    "            self.x = np.vstack((self.x, vector))\n",
    "            self.y = np.vstack((self.y, label))\n",
    "        \n",
    "        self.nb_examples = self.nb_examples + 1\n",
    "    \n",
    "    def getInputDimension(self):\n",
    "        \"\"\" Renvoie la dimension de l'espace d'entrée\n",
    "        \"\"\"\n",
    "        return self.input_dimension\n",
    "    \n",
    "    def size(self):\n",
    "        \"\"\" Renvoie le nombre d'exemples dans l'ensemble\n",
    "        \"\"\"\n",
    "        return self.nb_examples\n",
    "    \n",
    "    def getX(self, i):\n",
    "        \"\"\" Renvoie la description du i-eme exemple (x_i)\n",
    "        \"\"\"\n",
    "        return self.x[i]\n",
    "    \n",
    "    #\n",
    "    def getY(self, i):\n",
    "        \"\"\" Renvoie la classe de du i-eme exemple (y_i)\n",
    "        \"\"\"\n",
    "        return(self.y[i])"
   ]
  },
  {
   "cell_type": "code",
   "execution_count": 36,
   "metadata": {},
   "outputs": [],
   "source": [
    "# Exemple d'utilisation de LabeledSet\n",
    "\n",
    "une_base = LabeledSet(2)        # définition d'une base pour contenir des exemples en 2D\n",
    "une_base.addExample([0, 1],1)   # ajout de l'exemple (0, 1) de classe +1\n",
    "une_base.addExample([2, 3],1)   # ajout de l'exemple (2, 3) de classe +1\n",
    "une_base.addExample([1, 2],-1)  # ajout de l'exemple (1, 2) de classe -1\n",
    "une_base.addExample([2, 2],-1)  # ajout de l'exemple (2, 2) de classe -1\n"
   ]
  },
  {
   "cell_type": "markdown",
   "metadata": {},
   "source": [
    "<font color=\"RED\" size=\"+1\">**[Q]**</font> Ecrire la fonction <tt>affiche_base</tt> qui, étant donné un LabelSet, permet d'afficher tous les exemples qu'il contient."
   ]
  },
  {
   "cell_type": "code",
   "execution_count": 37,
   "metadata": {},
   "outputs": [],
   "source": [
    "def affiche_base(b):\n",
    "    for i in range(b.size()):\n",
    "        print(\"Exemple \",i,\"\\t\")\n",
    "        print(\"\\tdescription : \",b.getX(i))\n",
    "        print(\"\\tlabel : \",b.getY(i),\"\\n\")"
   ]
  },
  {
   "cell_type": "code",
   "execution_count": 38,
   "metadata": {},
   "outputs": [
    {
     "name": "stdout",
     "output_type": "stream",
     "text": [
      "Exemple  0 \t\n",
      "\tdescription :  [0 1]\n",
      "\tlabel :  [1] \n",
      "\n",
      "Exemple  1 \t\n",
      "\tdescription :  [2 3]\n",
      "\tlabel :  [1] \n",
      "\n",
      "Exemple  2 \t\n",
      "\tdescription :  [1 2]\n",
      "\tlabel :  [-1] \n",
      "\n",
      "Exemple  3 \t\n",
      "\tdescription :  [2 2]\n",
      "\tlabel :  [-1] \n",
      "\n"
     ]
    }
   ],
   "source": [
    "affiche_base(une_base)"
   ]
  },
  {
   "cell_type": "markdown",
   "metadata": {},
   "source": [
    "Un dataset en 2 dimensions pourra être affiché en utilisant matplotlib et plus précisément la fonction `matplotlib.pyplot.scatter` permettant de dessiner un nuage de points - http://matplotlib.org/api/pyplot_api.html#matplotlib.pyplot.scatter -"
   ]
  },
  {
   "cell_type": "code",
   "execution_count": 39,
   "metadata": {},
   "outputs": [],
   "source": [
    "import matplotlib.pyplot as plt\n",
    "%matplotlib inline \n",
    "\n",
    "def plot2DSet(set):\n",
    "    \"\"\" LabeledSet -> NoneType\n",
    "        Hypothèse: set est de dimension 2\n",
    "        affiche une représentation graphique du LabeledSet\n",
    "        remarque: l'ordre des labels dans set peut être quelconque\n",
    "    \"\"\"\n",
    "    S_pos = set.x[np.where(set.y == 1),:][0]      # tous les exemples de label +1\n",
    "    S_neg = set.x[np.where(set.y == -1),:][0]     # tous les exemples de label -1\n",
    "    plt.scatter(S_pos[:,0],S_pos[:,1],marker='o') # 'o' pour la classe +1\n",
    "    plt.scatter(S_neg[:,0],S_neg[:,1],marker='x') # 'x' pour la classe -1\n"
   ]
  },
  {
   "cell_type": "code",
   "execution_count": 40,
   "metadata": {},
   "outputs": [
    {
     "data": {
      "image/png": "[encoded data removed]",
      "text/plain": [
       "<Figure size 432x288 with 1 Axes>"
      ]
     },
     "metadata": {},
     "output_type": "display_data"
    }
   ],
   "source": [
    "# Par exemple :\n",
    "plot2DSet(une_base)"
   ]
  },
  {
   "cell_type": "markdown",
   "metadata": {},
   "source": [
    "### Génération de données ''Jouet''\n",
    "\n",
    "Nous allons pour l'instant nous intéresser à des datasets \"jouet\" générés selon des distributions choisies à la main. \n",
    "\n",
    "Commençons par un dataset en 2 dimensions (entrée) et 1 dimension (sortie): $x_i \\in \\mathbb{R}^2$, $y_i \\in \\{-1;+1\\}$ tel que les données sont générées selon deux gaussiennes. Pour cela, nous utiliserons la fonction `numpy.random.multivariate_normal` - http://docs.scipy.org/doc/numpy/reference/generated/numpy.random.multivariate_normal.html"
   ]
  },
  {
   "cell_type": "markdown",
   "metadata": {},
   "source": [
    "<font color=\"RED\" size=\"+1\">**[Q]**</font> Ecrire la fonction <tt>createGaussianDataset</tt> qui, étant donné 5 arguments:\n",
    "- `positive_center` est le centre de la gaussienne des points positifs (vecteur de taille 2)\n",
    "- `positive_sigma` est la variance de la gaussienne des points positifs (sous forme de matrice 2*2)\n",
    "- `negative_center` est le centre de la gaussienne des points négative (vecteur de taille 2)\n",
    "- `negative_sigma` est la variance de la gaussienne des points négative (sous forme de matrice 2*2)\n",
    "- `nb_points` est le nombre de points de chaque classe à générer\n",
    "\n",
    "rend un dataset généré aléatoirement."
   ]
  },
  {
   "cell_type": "code",
   "execution_count": 41,
   "metadata": {},
   "outputs": [],
   "source": [
    "def createGaussianDataset(positive_center,positive_sigma,negative_center,negative_sigma,nb_points):\n",
    "    une_base = LabeledSet(2)\n",
    "    for i in range(nb_points):\n",
    "        une_base.addExample(np.random.multivariate_normal(positive_center,positive_sigma),1)\n",
    "        une_base.addExample(np.random.multivariate_normal(negative_center,negative_sigma),-1)\n",
    "    return une_base"
   ]
  },
  {
   "cell_type": "code",
   "execution_count": 42,
   "metadata": {},
   "outputs": [
    {
     "name": "stdout",
     "output_type": "stream",
     "text": [
      "Taille de la base jouet générée : 20 exemples\n"
     ]
    },
    {
     "data": {
      "image/png": "[encoded data removed]",
      "text/plain": [
       "<Figure size 432x288 with 1 Axes>"
      ]
     },
     "metadata": {},
     "output_type": "display_data"
    }
   ],
   "source": [
    "# Exemple d'utilisation:\n",
    "\n",
    "the_set = createGaussianDataset(np.array([1,1]),np.array([[1,0],[0,1]]),np.array([-1,-1]),np.array([[1,0],[0,1]]),10)\n",
    "\n",
    "print(\"Taille de la base jouet générée :\", the_set.size(), \"exemples\")\n",
    "\n",
    "# Affichage :\n",
    "plot2DSet(the_set)\n"
   ]
  },
  {
   "cell_type": "markdown",
   "metadata": {},
   "source": [
    "## Étape 2: les classifieurs\n",
    "\n",
    "Un classifieur (binaire dans ce cours) permet, pour chaque point d'entrée donné, de calculer un score. Si le score est négatif, la donnée est associée à la classe $-1$, sinon à la classe $+1$. \n",
    "\n",
    "Les classifieurs que l'on va implémenter seront définis à l'aide d'une classe qui va dériver de la classe Classifier suivante. Cette classe est une classe \"abstraite\", elle sera dérivée par héritage pour définir des classifieurs particuliers (knn, arbres de décision, etc.).\n",
    "\n",
    "Par conséquent, pour l'instant les méthodes `train` et `predict` ne seront pas définies car elles dépendent du modèle que l'on choisira.\n",
    "\n",
    "Par contre, la fonction `computeAccuracy` renvoie le pourcentage de points bien classés. Elle peut être définie dès maintenant.\n",
    "\n",
    "<font color=\"RED\" size=\"+1\">**[Q]**</font> Donner l'implémentation de la fonction `computeAccuracy`."
   ]
  },
  {
   "cell_type": "code",
   "execution_count": 43,
   "metadata": {},
   "outputs": [],
   "source": [
    "class Classifier:\n",
    "    \"\"\" Classe pour représenter un classifieur\n",
    "        Attention: cette classe est une classe abstraite, elle ne peut pas être\n",
    "        instanciée.\n",
    "    \"\"\"\n",
    "    \n",
    "    def __init__(self, input_dimension):\n",
    "        \"\"\" Constructeur de Classifier\n",
    "            Argument:\n",
    "                - intput_dimension (int) : dimension d'entrée des exemples\n",
    "            Hypothèse : input_dimension > 0\n",
    "        \"\"\"\n",
    "        raise NotImplementedError(\"Please Implement this method\")\n",
    "        \n",
    "    def predict(self, x):\n",
    "        \"\"\" rend la prediction sur x (-1 ou +1)\n",
    "        \"\"\"\n",
    "        \n",
    "        raise NotImplementedError(\"Please Implement this method\")\n",
    "\n",
    "        \n",
    "    def train(self, labeledSet):\n",
    "        \"\"\" Permet d'entrainer le modele sur l'ensemble donné\n",
    "        \"\"\"\n",
    "        \n",
    "        raise NotImplementedError(\"Please Implement this method\")\n",
    "    \n",
    "    def accuracy(self, dataset):\n",
    "        \"\"\" Permet de calculer la qualité du système \n",
    "        \"\"\"\n",
    "        res = 0\n",
    "        for i in range(dataset.size()):\n",
    "            res+=dataset.predict(dataset.getY())\n",
    "        return res/dataset.size()\n",
    "    \n",
    "    def getInputDimension(self):\n",
    "        \"\"\" Renvoie la dimension de l'espace d'entrée\n",
    "        \"\"\"\n",
    "        return self.input_dimension\n",
    "    "
   ]
  },
  {
   "cell_type": "markdown",
   "metadata": {},
   "source": [
    "Nous allons maintenant définir un **classifieur linéaire aléatoire** en étendant la classe Classifier et en implémentant le constructeur ainsi que les 2 méthodes `predict` et `train`.\n",
    "\n",
    "Pour un classifieur linéaire aléatoire:\n",
    "- dans le constructeur, on doit générer aléatoirement un vecteur $w$ de taille `input_dimension` aléatoirement\n",
    "- pour ce classifieur, la méthode `train` ne fait rien. On ne mettra qu'un print permettant d'afficher le message \"Pas d'apprentissage pour ce classifieur\"\n",
    "- pour une description d'exemple $x$, la méthode `predict` doit utiliser la valeur de $\\langle x | w\\rangle$ pour prédire le label (+1 ou -1) associé\n"
   ]
  },
  {
   "cell_type": "markdown",
   "metadata": {},
   "source": [
    "<font color=\"RED\" size=\"+1\">**[Q]**</font> Donner l'implémentation de la classe ClassifierRandom qui hérite de la classe Classifier et permet de définir un classifieur linéaire aléatoire."
   ]
  },
  {
   "cell_type": "code",
   "execution_count": 44,
   "metadata": {
    "scrolled": true
   },
   "outputs": [],
   "source": [
    "class ClassifierRandom(Classifier):\n",
    "    \"\"\" Classe pour représenter un classifieur linéaire aléatoire\n",
    "        Cette classe hérite de la classe Classifier\n",
    "    \"\"\"\n",
    "    \n",
    "   \n",
    "    def __init__(self, input_dimension):\n",
    "        \"\"\" Constructeur de Classifier\n",
    "            Argument:\n",
    "                - intput_dimension (int) : dimension d'entrée des exemples\n",
    "            Hypothèse : input_dimension > 0\n",
    "        \"\"\"\n",
    "        self.input_dimension = input_dimension\n",
    "        self.w = np.random.randn(input_dimension)\n",
    "        \n",
    "    def predict(self, x):\n",
    "        \"\"\" rend la prediction sur x (-1 ou +1)\n",
    "        \"\"\"\n",
    "        score = np.dot(x,self.w)\n",
    "        if(score>0):\n",
    "            return 1\n",
    "        else:\n",
    "            return -1\n",
    "        \n",
    "    def train(self, labeledSet):\n",
    "        \"\"\" Permet d'entrainer le modele sur l'ensemble donné\n",
    "        \"\"\"\n",
    "        print(\"Pas d'apprentissage pour ce classifieur\")\n",
    "    \n",
    "    def accuracy(self, dataset):\n",
    "        \"\"\" Permet de calculer la qualité du système \n",
    "        \"\"\"\n",
    "        res = 0\n",
    "        for i in range(dataset.size()):\n",
    "            if(self.predict(dataset.getX(i))==dataset.getY(i)):\n",
    "                res+=1\n",
    "        return res/dataset.size()\n",
    "    \n",
    "    def getInputDimension(self):\n",
    "        \"\"\" Renvoie la dimension de l'espace d'entrée\n",
    "        \"\"\"\n",
    "        return self.input_dimension\n",
    "    "
   ]
  },
  {
   "cell_type": "code",
   "execution_count": 45,
   "metadata": {},
   "outputs": [],
   "source": [
    "# Création d'un classifieur linéaire aléatoire de dimension 2:\n",
    "\n",
    "un_classifieur = ClassifierRandom(2)"
   ]
  },
  {
   "cell_type": "markdown",
   "metadata": {},
   "source": [
    "<font color=\"RED\" size=\"+1\">**[Q]**</font> Calculer la performance (*accuracy*) d'un classifieur linéaire aléatoire sur un ensemble de 100 points générés aléatoirement."
   ]
  },
  {
   "cell_type": "code",
   "execution_count": 46,
   "metadata": {},
   "outputs": [
    {
     "ename": "NameError",
     "evalue": "name 'calculperf' is not defined",
     "output_type": "error",
     "traceback": [
      "\u001b[0;31m---------------------------------------------------------------------------\u001b[0m",
      "\u001b[0;31mNameError\u001b[0m                                 Traceback (most recent call last)",
      "\u001b[0;32m<ipython-input-46-5a4199d3e846>\u001b[0m in \u001b[0;36m<module>\u001b[0;34m()\u001b[0m\n\u001b[0;32m----> 1\u001b[0;31m \u001b[0mcalculperf\u001b[0m\u001b[0;34m(\u001b[0m\u001b[0mun_classifieur\u001b[0m\u001b[0;34m,\u001b[0m\u001b[0;36m100\u001b[0m\u001b[0;34m)\u001b[0m\u001b[0;34m\u001b[0m\u001b[0m\n\u001b[0m",
      "\u001b[0;31mNameError\u001b[0m: name 'calculperf' is not defined"
     ]
    }
   ],
   "source": [
    "calculperf(un_classifieur,100)"
   ]
  },
  {
   "cell_type": "code",
   "execution_count": 47,
   "metadata": {},
   "outputs": [],
   "source": [
    "def calculperf(c,nb_point):\n",
    "    une_base = createGaussianDataset(np.array([1,1]),np.array([[1,0],[0,1]]),np.array([-1,-1]),np.array([[1,0],[0,1]]),100) \n",
    "    return c.accuracy(une_base)\n",
    "        "
   ]
  },
  {
   "cell_type": "markdown",
   "metadata": {},
   "source": [
    "Voici une fonction qui permet de dessiner la frontière de decision d'un classifieur. La valeur `step` permet de choisir la précision du dessin."
   ]
  },
  {
   "cell_type": "code",
   "execution_count": 48,
   "metadata": {},
   "outputs": [],
   "source": [
    "def plot_frontiere(set,classifier,step=10):\n",
    "    \"\"\" LabeledSet * Classifier * int -> NoneType\n",
    "        Remarque: le 3e argument est optionnel et donne la \"résolution\" du tracé\n",
    "        affiche la frontière de décision associée au classifieur\n",
    "    \"\"\"\n",
    "    mmax=set.x.max(0)\n",
    "    mmin=set.x.min(0)\n",
    "    x1grid,x2grid=np.meshgrid(np.linspace(mmin[0],mmax[0],step),np.linspace(mmin[1],mmax[1],step))\n",
    "    grid=np.hstack((x1grid.reshape(x1grid.size,1),x2grid.reshape(x2grid.size,1)))\n",
    "    \n",
    "    # calcul de la prediction pour chaque point de la grille\n",
    "    res=np.array([classifier.predict(grid[i,:]) for i in range(len(grid)) ])\n",
    "    res=res.reshape(x1grid.shape)\n",
    "    # tracer des frontieres\n",
    "    plt.contourf(x1grid,x2grid,res,colors=[\"red\",\"cyan\"],levels=[-1000,0,1000])"
   ]
  },
  {
   "cell_type": "code",
   "execution_count": 49,
   "metadata": {},
   "outputs": [
    {
     "data": {
      "image/png": "[encoded data removed]",
      "text/plain": [
       "<Figure size 432x288 with 1 Axes>"
      ]
     },
     "metadata": {},
     "output_type": "display_data"
    }
   ],
   "source": [
    "classifieur_random=ClassifierRandom(2)\n",
    "\n",
    "plot_frontiere(the_set,classifieur_random)\n",
    "plot2DSet(the_set)"
   ]
  },
  {
   "cell_type": "markdown",
   "metadata": {},
   "source": [
    "## Étape 3 : k-NN\n",
    "\n",
    "De la même façon que nous avons défini un classifieur aléatoire, nosu allons maintenant un classifieur par $k$ plus proches voisins (ou k-NN). \n",
    "\n",
    "Pour cela nous allons construire un tableau de distances que nous trierons grâce à la méthode `numpy.argsort`.\n",
    "\n",
    "Pour un classifieur linéaire aléatoire:\n",
    "- dans le constructeur, on préciser, en plus de la dimension, le nombre de voisins à utiliser (valeur de $k$)\n",
    "- dans la méthode `train`, on constitue la base de points de référence en mémorisant le LabeledSet donné\n",
    "- pour une description d'exemple $x$, la méthode `predict` doit construire un tableau de distances aux points de référence, puis le trier grâce à la méthode `numpy.argsort`.\n"
   ]
  },
  {
   "cell_type": "markdown",
   "metadata": {},
   "source": [
    "<font color=\"RED\" size=\"+1\">**[Q]**</font> Donner l'implémentation de la classe ClassifierKNN qui hérite de la classe Classifier et permet de définir un classifieur par k-NN."
   ]
  },
  {
   "cell_type": "code",
   "execution_count": 50,
   "metadata": {},
   "outputs": [],
   "source": [
    "class ClassifierKNN(Classifier):\n",
    "    \n",
    "   \n",
    "    def __init__(self, input_dimension,k):\n",
    "        \"\"\" Constructeur de ClassifierKNN\n",
    "            Argument:\n",
    "                - intput_dimension (int) : dimension d'entrée des exemples\n",
    "            Hypothèse : input_dimension > 0\n",
    "        \"\"\"\n",
    "        self.input_dimension = input_dimension\n",
    "        self.k = k\n",
    "        \n",
    "    def predict(self, x):\n",
    "        \"\"\" rend la prediction sur x (-1 ou +1)\n",
    "        \"\"\"\n",
    "        b = self.labeledSet\n",
    "        tab = []\n",
    "        for i in range(b.size()):\n",
    "            distance = ((b.getX(i)[0]-x[0])**2)+((b.getX(i)[1]-x[1])**2)\n",
    "            tab.append(distance)\n",
    "        ind = np.argsort(tab)\n",
    "        \n",
    "        labelpos = 0\n",
    "        labelneg = 0\n",
    "        for i in range(self.k):\n",
    "            if(b.getY(ind[i]) == 1):\n",
    "                labelpos+=1\n",
    "            else:\n",
    "                labelneg+=1\n",
    "        if(labelpos>labelneg):\n",
    "            return 1\n",
    "        else:\n",
    "            return -1\n",
    "        \n",
    "        \n",
    "    def train(self, labeledSet):\n",
    "        \"\"\" Permet d'entrainer le modele sur l'ensemble donné\n",
    "        \"\"\"\n",
    "        self.labeledSet = labeledSet\n",
    "    \n",
    "    def accuracy(self, dataset):\n",
    "        \"\"\" Permet de calculer la qualité du système \n",
    "        \"\"\"\n",
    "        res = 0\n",
    "        for i in range(dataset.size()):\n",
    "            if(self.predict(dataset.getX(i))==dataset.getY(i)):\n",
    "                res+=1\n",
    "        return res/dataset.size()\n",
    "    \n",
    "    def getInputDimension(self):\n",
    "        \"\"\" Renvoie la dimension de l'espace d'entrée\n",
    "        \"\"\"\n",
    "        return self.input_dimension\n",
    "    "
   ]
  },
  {
   "cell_type": "code",
   "execution_count": 51,
   "metadata": {},
   "outputs": [
    {
     "data": {
      "image/png": "[encoded data removed]",
      "text/plain": [
       "<Figure size 432x288 with 1 Axes>"
      ]
     },
     "metadata": {},
     "output_type": "display_data"
    }
   ],
   "source": [
    "# Exemple d'utilisation :\n",
    "knn = ClassifierKNN(2,3)\n",
    "knn.train(the_set)\n",
    "\n",
    "plot_frontiere(the_set,knn,20)\n",
    "plot2DSet(the_set) "
   ]
  },
  {
   "cell_type": "markdown",
   "metadata": {},
   "source": [
    "## Étape 4: protocole expérimental\n",
    "\n",
    "Attention, lorsque l'on évalue un classifieur, il est nécessaire de considérer deux ensembles distincts: un ensemble d'apprentissage et un ensemble de test. La performance doit être évaluée sur l'ensemble de test (et non pas sur l'ensemble d'apprentissage)."
   ]
  },
  {
   "cell_type": "markdown",
   "metadata": {},
   "source": [
    "<font color=\"RED\" size=\"+1\">**[Q]**</font> Donner les instructions permettant d'évaluer un classifieur KNN et comparer les résultats obtenus avec ceux obtenus par un classifieur linéaire aléatoire sur le même jeu de données."
   ]
  },
  {
   "cell_type": "code",
   "execution_count": 52,
   "metadata": {},
   "outputs": [
    {
     "name": "stdout",
     "output_type": "stream",
     "text": [
      "classe random 0.145\n",
      "classe kpp 0.92\n"
     ]
    }
   ],
   "source": [
    "classR = ClassifierRandom(2)\n",
    "classKpp = ClassifierKNN(2,3)\n",
    "une_base = createGaussianDataset(np.array([1,1]),np.array([[1,0],[0,1]]),np.array([-1,-1]),np.array([[1,0],[0,1]]),100) \n",
    "print(\"classe random\",classR.accuracy(une_base))\n",
    "classKpp.train(une_base)\n",
    "print(\"classe kpp\",classKpp.accuracy(une_base))\n",
    "        "
   ]
  },
  {
   "cell_type": "markdown",
   "metadata": {},
   "source": [
    "### Différentes expérimentations\n",
    "\n",
    "<font color=\"RED\" size=\"+1\">**[Q]**</font> Comparer la performance (en train et test) de plusieurs classifieurs KNN avec différentes valeurs de k. Que pouvez vous constater ?\n",
    "Idéalement, vous tracerez la performance (accuracy) en fonction de la valeur de k.\n",
    "Essayez avec différentes configurations de gaussiennes."
   ]
  },
  {
   "cell_type": "code",
   "execution_count": 53,
   "metadata": {},
   "outputs": [
    {
     "name": "stdout",
     "output_type": "stream",
     "text": [
      "Accuracy on train 0.93\n",
      "Accuracy on test 0.925\n"
     ]
    }
   ],
   "source": [
    "base1 = createGaussianDataset(np.array([1,1]),np.array([[1,0],[0,1]]),np.array([-1,-1]),np.array([[1,0],[0,1]]),100) \n",
    "base2 = createGaussianDataset(np.array([1,1]),np.array([[1,0],[0,1]]),np.array([-1,-1]),np.array([[1,0],[0,1]]),100) \n",
    "\n",
    "classKpp.train(base1)\n",
    "\n",
    "print(\"Accuracy on train\", classKpp.accuracy(base1))\n",
    "print(\"Accuracy on test\",classKpp.accuracy(base2))"
   ]
  },
  {
   "cell_type": "markdown",
   "metadata": {},
   "source": [
    "## Étape 5 : données réelles UCI\n",
    "\n",
    "Plusieurs datasets sont téléchargeables depuis: http://mldata.org\n",
    "\n",
    "Voir : https://scikit-learn.org/0.19/datasets/mldata.html\n",
    "\n",
    "Voici la fonction permettant de les charger (en spécifiant leur nom). La fonction se charge de charger les données depuis le web."
   ]
  },
  {
   "cell_type": "code",
   "execution_count": 1,
   "metadata": {},
   "outputs": [
    {
     "ename": "HTTPError",
     "evalue": "HTTP Error 502: Bad Gateway",
     "output_type": "error",
     "traceback": [
      "\u001b[0;31m---------------------------------------------------------------------------\u001b[0m",
      "\u001b[0;31mHTTPError\u001b[0m                                 Traceback (most recent call last)",
      "\u001b[0;32m<ipython-input-1-ebbd0adb9177>\u001b[0m in \u001b[0;36m<module>\u001b[0;34m()\u001b[0m\n\u001b[1;32m     11\u001b[0m             \u001b[0mdata\u001b[0m\u001b[0;34m.\u001b[0m\u001b[0mtarget\u001b[0m\u001b[0;34m[\u001b[0m\u001b[0mi\u001b[0m\u001b[0;34m]\u001b[0m\u001b[0;34m=\u001b[0m\u001b[0;34m-\u001b[0m\u001b[0;36m1\u001b[0m\u001b[0;34m\u001b[0m\u001b[0m\n\u001b[1;32m     12\u001b[0m \u001b[0;34m\u001b[0m\u001b[0m\n\u001b[0;32m---> 13\u001b[0;31m \u001b[0mloadFile\u001b[0m\u001b[0;34m(\u001b[0m\u001b[0;34m'breast-cancer_scale'\u001b[0m\u001b[0;34m)\u001b[0m\u001b[0;34m\u001b[0m\u001b[0m\n\u001b[0m\u001b[1;32m     14\u001b[0m \u001b[0;31m#Les donnees sont dans data.data et data.target\u001b[0m\u001b[0;34m\u001b[0m\u001b[0;34m\u001b[0m\u001b[0m\n",
      "\u001b[0;32m<ipython-input-1-ebbd0adb9177>\u001b[0m in \u001b[0;36mloadFile\u001b[0;34m(name)\u001b[0m\n\u001b[1;32m      2\u001b[0m \u001b[0;34m\u001b[0m\u001b[0m\n\u001b[1;32m      3\u001b[0m \u001b[0;32mdef\u001b[0m \u001b[0mloadFile\u001b[0m\u001b[0;34m(\u001b[0m\u001b[0mname\u001b[0m\u001b[0;34m)\u001b[0m\u001b[0;34m:\u001b[0m\u001b[0;34m\u001b[0m\u001b[0m\n\u001b[0;32m----> 4\u001b[0;31m     \u001b[0mdata\u001b[0m \u001b[0;34m=\u001b[0m \u001b[0mfetch_mldata\u001b[0m\u001b[0;34m(\u001b[0m\u001b[0mname\u001b[0m\u001b[0;34m,\u001b[0m \u001b[0mdata_home\u001b[0m\u001b[0;34m=\u001b[0m\u001b[0;34m'.'\u001b[0m\u001b[0;34m)\u001b[0m\u001b[0;34m\u001b[0m\u001b[0m\n\u001b[0m\u001b[1;32m      5\u001b[0m     \u001b[0mprint\u001b[0m\u001b[0;34m(\u001b[0m\u001b[0mdata\u001b[0m\u001b[0;34m.\u001b[0m\u001b[0mdata\u001b[0m\u001b[0;34m.\u001b[0m\u001b[0mshape\u001b[0m\u001b[0;34m)\u001b[0m\u001b[0;34m\u001b[0m\u001b[0m\n\u001b[1;32m      6\u001b[0m     \u001b[0munique\u001b[0m\u001b[0;34m=\u001b[0m\u001b[0mnp\u001b[0m\u001b[0;34m.\u001b[0m\u001b[0munique\u001b[0m\u001b[0;34m(\u001b[0m\u001b[0mdata\u001b[0m\u001b[0;34m.\u001b[0m\u001b[0mtarget\u001b[0m\u001b[0;34m)\u001b[0m\u001b[0;34m\u001b[0m\u001b[0m\n",
      "\u001b[0;32m/usr/local/lib/python3.5/dist-packages/sklearn/datasets/mldata.py\u001b[0m in \u001b[0;36mfetch_mldata\u001b[0;34m(dataname, target_name, data_name, transpose_data, data_home)\u001b[0m\n\u001b[1;32m    152\u001b[0m         \u001b[0murlname\u001b[0m \u001b[0;34m=\u001b[0m \u001b[0mMLDATA_BASE_URL\u001b[0m \u001b[0;34m%\u001b[0m \u001b[0mquote\u001b[0m\u001b[0;34m(\u001b[0m\u001b[0mdataname\u001b[0m\u001b[0;34m)\u001b[0m\u001b[0;34m\u001b[0m\u001b[0m\n\u001b[1;32m    153\u001b[0m         \u001b[0;32mtry\u001b[0m\u001b[0;34m:\u001b[0m\u001b[0;34m\u001b[0m\u001b[0m\n\u001b[0;32m--> 154\u001b[0;31m             \u001b[0mmldata_url\u001b[0m \u001b[0;34m=\u001b[0m \u001b[0murlopen\u001b[0m\u001b[0;34m(\u001b[0m\u001b[0murlname\u001b[0m\u001b[0;34m)\u001b[0m\u001b[0;34m\u001b[0m\u001b[0m\n\u001b[0m\u001b[1;32m    155\u001b[0m         \u001b[0;32mexcept\u001b[0m \u001b[0mHTTPError\u001b[0m \u001b[0;32mas\u001b[0m \u001b[0me\u001b[0m\u001b[0;34m:\u001b[0m\u001b[0;34m\u001b[0m\u001b[0m\n\u001b[1;32m    156\u001b[0m             \u001b[0;32mif\u001b[0m \u001b[0me\u001b[0m\u001b[0;34m.\u001b[0m\u001b[0mcode\u001b[0m \u001b[0;34m==\u001b[0m \u001b[0;36m404\u001b[0m\u001b[0;34m:\u001b[0m\u001b[0;34m\u001b[0m\u001b[0m\n",
      "\u001b[0;32m/usr/lib/python3.5/urllib/request.py\u001b[0m in \u001b[0;36murlopen\u001b[0;34m(url, data, timeout, cafile, capath, cadefault, context)\u001b[0m\n\u001b[1;32m    161\u001b[0m     \u001b[0;32melse\u001b[0m\u001b[0;34m:\u001b[0m\u001b[0;34m\u001b[0m\u001b[0m\n\u001b[1;32m    162\u001b[0m         \u001b[0mopener\u001b[0m \u001b[0;34m=\u001b[0m \u001b[0m_opener\u001b[0m\u001b[0;34m\u001b[0m\u001b[0m\n\u001b[0;32m--> 163\u001b[0;31m     \u001b[0;32mreturn\u001b[0m \u001b[0mopener\u001b[0m\u001b[0;34m.\u001b[0m\u001b[0mopen\u001b[0m\u001b[0;34m(\u001b[0m\u001b[0murl\u001b[0m\u001b[0;34m,\u001b[0m \u001b[0mdata\u001b[0m\u001b[0;34m,\u001b[0m \u001b[0mtimeout\u001b[0m\u001b[0;34m)\u001b[0m\u001b[0;34m\u001b[0m\u001b[0m\n\u001b[0m\u001b[1;32m    164\u001b[0m \u001b[0;34m\u001b[0m\u001b[0m\n\u001b[1;32m    165\u001b[0m \u001b[0;32mdef\u001b[0m \u001b[0minstall_opener\u001b[0m\u001b[0;34m(\u001b[0m\u001b[0mopener\u001b[0m\u001b[0;34m)\u001b[0m\u001b[0;34m:\u001b[0m\u001b[0;34m\u001b[0m\u001b[0m\n",
      "\u001b[0;32m/usr/lib/python3.5/urllib/request.py\u001b[0m in \u001b[0;36mopen\u001b[0;34m(self, fullurl, data, timeout)\u001b[0m\n\u001b[1;32m    470\u001b[0m         \u001b[0;32mfor\u001b[0m \u001b[0mprocessor\u001b[0m \u001b[0;32min\u001b[0m \u001b[0mself\u001b[0m\u001b[0;34m.\u001b[0m\u001b[0mprocess_response\u001b[0m\u001b[0;34m.\u001b[0m\u001b[0mget\u001b[0m\u001b[0;34m(\u001b[0m\u001b[0mprotocol\u001b[0m\u001b[0;34m,\u001b[0m \u001b[0;34m[\u001b[0m\u001b[0;34m]\u001b[0m\u001b[0;34m)\u001b[0m\u001b[0;34m:\u001b[0m\u001b[0;34m\u001b[0m\u001b[0m\n\u001b[1;32m    471\u001b[0m             \u001b[0mmeth\u001b[0m \u001b[0;34m=\u001b[0m \u001b[0mgetattr\u001b[0m\u001b[0;34m(\u001b[0m\u001b[0mprocessor\u001b[0m\u001b[0;34m,\u001b[0m \u001b[0mmeth_name\u001b[0m\u001b[0;34m)\u001b[0m\u001b[0;34m\u001b[0m\u001b[0m\n\u001b[0;32m--> 472\u001b[0;31m             \u001b[0mresponse\u001b[0m \u001b[0;34m=\u001b[0m \u001b[0mmeth\u001b[0m\u001b[0;34m(\u001b[0m\u001b[0mreq\u001b[0m\u001b[0;34m,\u001b[0m \u001b[0mresponse\u001b[0m\u001b[0;34m)\u001b[0m\u001b[0;34m\u001b[0m\u001b[0m\n\u001b[0m\u001b[1;32m    473\u001b[0m \u001b[0;34m\u001b[0m\u001b[0m\n\u001b[1;32m    474\u001b[0m         \u001b[0;32mreturn\u001b[0m \u001b[0mresponse\u001b[0m\u001b[0;34m\u001b[0m\u001b[0m\n",
      "\u001b[0;32m/usr/lib/python3.5/urllib/request.py\u001b[0m in \u001b[0;36mhttp_response\u001b[0;34m(self, request, response)\u001b[0m\n\u001b[1;32m    580\u001b[0m         \u001b[0;32mif\u001b[0m \u001b[0;32mnot\u001b[0m \u001b[0;34m(\u001b[0m\u001b[0;36m200\u001b[0m \u001b[0;34m<=\u001b[0m \u001b[0mcode\u001b[0m \u001b[0;34m<\u001b[0m \u001b[0;36m300\u001b[0m\u001b[0;34m)\u001b[0m\u001b[0;34m:\u001b[0m\u001b[0;34m\u001b[0m\u001b[0m\n\u001b[1;32m    581\u001b[0m             response = self.parent.error(\n\u001b[0;32m--> 582\u001b[0;31m                 'http', request, response, code, msg, hdrs)\n\u001b[0m\u001b[1;32m    583\u001b[0m \u001b[0;34m\u001b[0m\u001b[0m\n\u001b[1;32m    584\u001b[0m         \u001b[0;32mreturn\u001b[0m \u001b[0mresponse\u001b[0m\u001b[0;34m\u001b[0m\u001b[0m\n",
      "\u001b[0;32m/usr/lib/python3.5/urllib/request.py\u001b[0m in \u001b[0;36merror\u001b[0;34m(self, proto, *args)\u001b[0m\n\u001b[1;32m    508\u001b[0m         \u001b[0;32mif\u001b[0m \u001b[0mhttp_err\u001b[0m\u001b[0;34m:\u001b[0m\u001b[0;34m\u001b[0m\u001b[0m\n\u001b[1;32m    509\u001b[0m             \u001b[0margs\u001b[0m \u001b[0;34m=\u001b[0m \u001b[0;34m(\u001b[0m\u001b[0mdict\u001b[0m\u001b[0;34m,\u001b[0m \u001b[0;34m'default'\u001b[0m\u001b[0;34m,\u001b[0m \u001b[0;34m'http_error_default'\u001b[0m\u001b[0;34m)\u001b[0m \u001b[0;34m+\u001b[0m \u001b[0morig_args\u001b[0m\u001b[0;34m\u001b[0m\u001b[0m\n\u001b[0;32m--> 510\u001b[0;31m             \u001b[0;32mreturn\u001b[0m \u001b[0mself\u001b[0m\u001b[0;34m.\u001b[0m\u001b[0m_call_chain\u001b[0m\u001b[0;34m(\u001b[0m\u001b[0;34m*\u001b[0m\u001b[0margs\u001b[0m\u001b[0;34m)\u001b[0m\u001b[0;34m\u001b[0m\u001b[0m\n\u001b[0m\u001b[1;32m    511\u001b[0m \u001b[0;34m\u001b[0m\u001b[0m\n\u001b[1;32m    512\u001b[0m \u001b[0;31m# XXX probably also want an abstract factory that knows when it makes\u001b[0m\u001b[0;34m\u001b[0m\u001b[0;34m\u001b[0m\u001b[0m\n",
      "\u001b[0;32m/usr/lib/python3.5/urllib/request.py\u001b[0m in \u001b[0;36m_call_chain\u001b[0;34m(self, chain, kind, meth_name, *args)\u001b[0m\n\u001b[1;32m    442\u001b[0m         \u001b[0;32mfor\u001b[0m \u001b[0mhandler\u001b[0m \u001b[0;32min\u001b[0m \u001b[0mhandlers\u001b[0m\u001b[0;34m:\u001b[0m\u001b[0;34m\u001b[0m\u001b[0m\n\u001b[1;32m    443\u001b[0m             \u001b[0mfunc\u001b[0m \u001b[0;34m=\u001b[0m \u001b[0mgetattr\u001b[0m\u001b[0;34m(\u001b[0m\u001b[0mhandler\u001b[0m\u001b[0;34m,\u001b[0m \u001b[0mmeth_name\u001b[0m\u001b[0;34m)\u001b[0m\u001b[0;34m\u001b[0m\u001b[0m\n\u001b[0;32m--> 444\u001b[0;31m             \u001b[0mresult\u001b[0m \u001b[0;34m=\u001b[0m \u001b[0mfunc\u001b[0m\u001b[0;34m(\u001b[0m\u001b[0;34m*\u001b[0m\u001b[0margs\u001b[0m\u001b[0;34m)\u001b[0m\u001b[0;34m\u001b[0m\u001b[0m\n\u001b[0m\u001b[1;32m    445\u001b[0m             \u001b[0;32mif\u001b[0m \u001b[0mresult\u001b[0m \u001b[0;32mis\u001b[0m \u001b[0;32mnot\u001b[0m \u001b[0;32mNone\u001b[0m\u001b[0;34m:\u001b[0m\u001b[0;34m\u001b[0m\u001b[0m\n\u001b[1;32m    446\u001b[0m                 \u001b[0;32mreturn\u001b[0m \u001b[0mresult\u001b[0m\u001b[0;34m\u001b[0m\u001b[0m\n",
      "\u001b[0;32m/usr/lib/python3.5/urllib/request.py\u001b[0m in \u001b[0;36mhttp_error_default\u001b[0;34m(self, req, fp, code, msg, hdrs)\u001b[0m\n\u001b[1;32m    588\u001b[0m \u001b[0;32mclass\u001b[0m \u001b[0mHTTPDefaultErrorHandler\u001b[0m\u001b[0;34m(\u001b[0m\u001b[0mBaseHandler\u001b[0m\u001b[0;34m)\u001b[0m\u001b[0;34m:\u001b[0m\u001b[0;34m\u001b[0m\u001b[0m\n\u001b[1;32m    589\u001b[0m     \u001b[0;32mdef\u001b[0m \u001b[0mhttp_error_default\u001b[0m\u001b[0;34m(\u001b[0m\u001b[0mself\u001b[0m\u001b[0;34m,\u001b[0m \u001b[0mreq\u001b[0m\u001b[0;34m,\u001b[0m \u001b[0mfp\u001b[0m\u001b[0;34m,\u001b[0m \u001b[0mcode\u001b[0m\u001b[0;34m,\u001b[0m \u001b[0mmsg\u001b[0m\u001b[0;34m,\u001b[0m \u001b[0mhdrs\u001b[0m\u001b[0;34m)\u001b[0m\u001b[0;34m:\u001b[0m\u001b[0;34m\u001b[0m\u001b[0m\n\u001b[0;32m--> 590\u001b[0;31m         \u001b[0;32mraise\u001b[0m \u001b[0mHTTPError\u001b[0m\u001b[0;34m(\u001b[0m\u001b[0mreq\u001b[0m\u001b[0;34m.\u001b[0m\u001b[0mfull_url\u001b[0m\u001b[0;34m,\u001b[0m \u001b[0mcode\u001b[0m\u001b[0;34m,\u001b[0m \u001b[0mmsg\u001b[0m\u001b[0;34m,\u001b[0m \u001b[0mhdrs\u001b[0m\u001b[0;34m,\u001b[0m \u001b[0mfp\u001b[0m\u001b[0;34m)\u001b[0m\u001b[0;34m\u001b[0m\u001b[0m\n\u001b[0m\u001b[1;32m    591\u001b[0m \u001b[0;34m\u001b[0m\u001b[0m\n\u001b[1;32m    592\u001b[0m \u001b[0;32mclass\u001b[0m \u001b[0mHTTPRedirectHandler\u001b[0m\u001b[0;34m(\u001b[0m\u001b[0mBaseHandler\u001b[0m\u001b[0;34m)\u001b[0m\u001b[0;34m:\u001b[0m\u001b[0;34m\u001b[0m\u001b[0m\n",
      "\u001b[0;31mHTTPError\u001b[0m: HTTP Error 502: Bad Gateway"
     ]
    }
   ],
   "source": [
    "from sklearn.datasets import fetch_mldata\n",
    "\n",
    "def loadFile(name):\n",
    "    data = fetch_mldata(name, data_home='.')\n",
    "    print(data.data.shape)\n",
    "    unique=np.unique(data.target)\n",
    "    for i in range(len(data.target)):\n",
    "        if (data.target[i]==unique[0]):\n",
    "            data.target[i]=1\n",
    "        else:\n",
    "            data.target[i]=-1\n",
    "            \n",
    "loadFile('breast-cancer_scale')\n",
    "#Les donnees sont dans data.data et data.target"
   ]
  },
  {
   "cell_type": "markdown",
   "metadata": {},
   "source": [
    "<font color=\"RED\" size=\"+1\">**[Q]**</font> Écrire la fonction `split` permettant de découper un labeledSet données en 2: un ensemble d'apprentissage et un ensemble de test."
   ]
  },
  {
   "cell_type": "code",
   "execution_count": null,
   "metadata": {},
   "outputs": [],
   "source": [
    "def split(labeledSet):\n",
    "    "
   ]
  },
  {
   "cell_type": "markdown",
   "metadata": {},
   "source": [
    "<font color=\"RED\" size=\"+1\">**[Q]**</font> Tester différents k-NN , pour différentes valeurs de $k$, et tracer la courbe de performance (accuracy) pour les données d'apprentissage et les données de test."
   ]
  },
  {
   "cell_type": "code",
   "execution_count": null,
   "metadata": {},
   "outputs": [],
   "source": []
  }
 ],
 "metadata": {
  "kernelspec": {
   "display_name": "Python 3",
   "language": "python",
   "name": "python3"
  },
  "language_info": {
   "codemirror_mode": {
    "name": "ipython",
    "version": 3
   },
   "file_extension": ".py",
   "mimetype": "text/x-python",
   "name": "python",
   "nbconvert_exporter": "python",
   "pygments_lexer": "ipython3",
   "version": "3.5.3"
  }
 },
 "nbformat": 4,
 "nbformat_minor": 1
}
