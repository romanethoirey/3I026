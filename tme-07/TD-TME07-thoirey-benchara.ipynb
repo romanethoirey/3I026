{
 "cells": [
  {
   "cell_type": "markdown",
   "metadata": {},
   "source": [
    "IA & Data science (3i026) -- 2018-2019\n",
    "--------\n",
    "*&copy; Equipe pédagogique: Manon Ansart, Vincent Guigue, Marie-Jeanne Lesot, Christophe Marsala, Olivier Schwander.*"
   ]
  },
  {
   "cell_type": "markdown",
   "metadata": {},
   "source": [
    "# TD-TME07: algorithmes d'apprentissage non-supervisé"
   ]
  },
  {
   "cell_type": "markdown",
   "metadata": {},
   "source": [
    "L'objectif de cette séance est d'implémenter des algorithmes d'apprentissage non-supervisé (cf. cours 8), en particulier, l'algorithme de classification hiérarchique."
   ]
  },
  {
   "cell_type": "markdown",
   "metadata": {},
   "source": [
    "<font size=\"+1\" color=\"RED\">**[Q]**</font> **Indiquer dans la boîte ci-dessous vos noms et prénoms :**"
   ]
  },
  {
   "cell_type": "markdown",
   "metadata": {},
   "source": [
    "THOIREY Romane - BENCHARA Imane"
   ]
  },
  {
   "cell_type": "markdown",
   "metadata": {},
   "source": [
    "<font color=\"RED\" size=\"+1\">**[Q]**</font> **Renommer ce fichier ipython**\n",
    "\n",
    "Tout en haut de cette page, cliquer sur <tt>TD-TME07</tt> et rajouter à la suite de <tt>TD-TME07</tt> les noms des membres du binômes séparés par un tiret."
   ]
  },
  {
   "cell_type": "markdown",
   "metadata": {},
   "source": [
    "\n",
    "## Préparation"
   ]
  },
  {
   "cell_type": "markdown",
   "metadata": {},
   "source": [
    "L'archive récupérée avec ce fichier contient aussi le répertoire <code>data</code> qui contient les bases pour expérimenter vos fonctions."
   ]
  },
  {
   "cell_type": "markdown",
   "metadata": {},
   "source": [
    "Avant de commencer, exécuter le bloc suivant afin de pouvoir initialiser des variables utiles :"
   ]
  },
  {
   "cell_type": "code",
   "execution_count": 1,
   "metadata": {},
   "outputs": [],
   "source": [
    "import numpy as np\n",
    "import pandas as pd\n",
    "from datetime import datetime as dt\n",
    "import matplotlib.pyplot as plt\n",
    "%matplotlib inline  "
   ]
  },
  {
   "cell_type": "markdown",
   "metadata": {},
   "source": [
    "## Travail à réaliser"
   ]
  },
  {
   "cell_type": "markdown",
   "metadata": {},
   "source": [
    "Le travail à faire se décompose en 2 phases :\n",
    "- dans un premier temps, le travail porte sur la base d'apprentissage <code>base-2D.csv</code> qui contient des exemples décrits dans $R^2$. Ainsi, il est plus aisé de visualiser les résultats des fonctions à écrire ;\n",
    "- dans un second temps, les fonctions écrites dans la phase précédente sont à utiliser avec la base d'apprentissage \"base-Paris.csv\".\n",
    "\n",
    "**Attention**: vos fonctions doivent **dès leur création** pouvoir s'appliquer **quelle que soit la dimension** des exemples traités."
   ]
  },
  {
   "cell_type": "markdown",
   "metadata": {},
   "source": [
    "## Phase 1: implémentation des fonctions de base"
   ]
  },
  {
   "cell_type": "markdown",
   "metadata": {},
   "source": [
    "### Chargement du fichier \"base_2D.csv\""
   ]
  },
  {
   "cell_type": "markdown",
   "metadata": {},
   "source": [
    "La lecture d'un fichier CSV par <code>pd.read()</code> fournit un <code>DataFrame</code> que vous avez appris à manipuler dans les séances précédentes."
   ]
  },
  {
   "cell_type": "code",
   "execution_count": 2,
   "metadata": {},
   "outputs": [
    {
     "name": "stdout",
     "output_type": "stream",
     "text": [
      "Il y a 14 exemples dans la base.\n"
     ]
    }
   ],
   "source": [
    "# Par exemple:\n",
    "data_2D = pd.read_csv(\"data/base-2D.csv\")\n",
    "print(\"Il y a\", len(data_2D), \"exemples dans la base.\")"
   ]
  },
  {
   "cell_type": "markdown",
   "metadata": {},
   "source": [
    "<font size=\"+1\" color=\"RED\">**[Q]**</font> Exécuter le code suivant qui permet de réaliser une représentation graphique de cette base d'apprentissage.\n"
   ]
  },
  {
   "cell_type": "code",
   "execution_count": 3,
   "metadata": {},
   "outputs": [
    {
     "name": "stderr",
     "output_type": "stream",
     "text": [
      "/usr/local/lib/python3.5/dist-packages/ipykernel_launcher.py:1: FutureWarning: Method .as_matrix will be removed in a future version. Use .values instead.\n",
      "  \"\"\"Entry point for launching an IPython kernel.\n"
     ]
    },
    {
     "data": {
      "text/plain": [
       "<matplotlib.collections.PathCollection at 0x7efe0e007c50>"
      ]
     },
     "execution_count": 3,
     "metadata": {},
     "output_type": "execute_result"
    },
    {
     "data": {
      "image/png": "[encoded data removed]",
      "text/plain": [
       "<Figure size 432x288 with 1 Axes>"
      ]
     },
     "metadata": {},
     "output_type": "display_data"
    }
   ],
   "source": [
    "M_data2D= data_2D.as_matrix()      # conversion du DataFrame en matrice pour la commande suivante\n",
    "colonne_X= M_data2D[0: , 0]        # récupération des valeurs de la première colonne\n",
    "colonne_Y= M_data2D[0: , 1]        # récupération des valeurs de la deuxième colonne\n",
    "plt.scatter(colonne_X, colonne_Y) # affichage des points"
   ]
  },
  {
   "cell_type": "markdown",
   "metadata": {},
   "source": [
    "## Fonctions préliminaires"
   ]
  },
  {
   "cell_type": "markdown",
   "metadata": {},
   "source": [
    "### Normalisation des données"
   ]
  },
  {
   "cell_type": "markdown",
   "metadata": {},
   "source": [
    "<font size=\"+1\" color=\"RED\">**[Q]**</font> Ecrire la fonction <code>normalisation</code> qui prend en argument un <code>DataFrame</code> et rend la matrice obtenue en normalisant chaque colonne de ce <code>DataFrame</code> en appliquant la normalisation vue en cours.\n"
   ]
  },
  {
   "cell_type": "code",
   "execution_count": 4,
   "metadata": {},
   "outputs": [],
   "source": [
    "def normalisation(df):\n",
    "    normalised_data = (df - df.min() )/(df.max() - df.min());\n",
    "    print(\"Colone X :\",df[\"X\"].min(), df[\"X\"].max())\n",
    "    print(\"Colone Y :\",df[\"Y\"].min(), df[\"Y\"].max())\n",
    "    return normalised_data.as_matrix()\n",
    "    "
   ]
  },
  {
   "cell_type": "markdown",
   "metadata": {},
   "source": [
    "**[Q]** Normaliser les données de la base-2D et afficher leur représentation graphique: vérifier que le tracé est le même que celui obtenu avant la normalisation (aux valeurs des axes près)."
   ]
  },
  {
   "cell_type": "code",
   "execution_count": 5,
   "metadata": {},
   "outputs": [
    {
     "name": "stdout",
     "output_type": "stream",
     "text": [
      "Colone X : 0.0 7.0\n",
      "Colone Y : 1.0 6.0\n"
     ]
    },
    {
     "name": "stderr",
     "output_type": "stream",
     "text": [
      "/usr/local/lib/python3.5/dist-packages/ipykernel_launcher.py:5: FutureWarning: Method .as_matrix will be removed in a future version. Use .values instead.\n",
      "  \"\"\"\n"
     ]
    },
    {
     "data": {
      "text/plain": [
       "<matplotlib.collections.PathCollection at 0x7efe0df8c470>"
      ]
     },
     "execution_count": 5,
     "metadata": {},
     "output_type": "execute_result"
    },
    {
     "data": {
      "image/png": "[encoded data removed]",
      "text/plain": [
       "<Figure size 432x288 with 1 Axes>"
      ]
     },
     "metadata": {},
     "output_type": "display_data"
    }
   ],
   "source": [
    "M_data2D= normalisation(data_2D)      # conversion du DataFrame en matrice pour la commande suivante\n",
    "colonne_X= M_data2D[0: , 0]        # récupération des valeurs de la première colonne\n",
    "colonne_Y= M_data2D[0: , 1]        # récupération des valeurs de la deuxième colonne\n",
    "plt.scatter(colonne_X, colonne_Y) # affichage des points"
   ]
  },
  {
   "cell_type": "markdown",
   "metadata": {},
   "source": [
    "### Distances entre exemples"
   ]
  },
  {
   "cell_type": "markdown",
   "metadata": {},
   "source": [
    "<font size=\"+1\" color=\"RED\">**[Q]**</font> Ecrire la fonction <code>dist_euclidienne_vect</code> qui prend en argument deux exemples sous la forme de vecteurs et rend leur distance euclidienne. "
   ]
  },
  {
   "cell_type": "code",
   "execution_count": 6,
   "metadata": {},
   "outputs": [],
   "source": [
    "def dist_euclidienne_vect(v1,v2):\n",
    "    return np.linalg.norm(v1-v2)\n",
    "    "
   ]
  },
  {
   "cell_type": "code",
   "execution_count": 7,
   "metadata": {},
   "outputs": [
    {
     "name": "stdout",
     "output_type": "stream",
     "text": [
      "v1 :  [0.  0.6] \n",
      "v2 :  [0.14285714 0.5       ]\n",
      "distance euclidienne entre v1 et v2 :  0.17437936593905287\n"
     ]
    }
   ],
   "source": [
    "# Exemple d'utilisation sur les 2 premiers exemples de la base:\n",
    "v1= M_data2D[0,:]\n",
    "v2= M_data2D[1,:]\n",
    "print(\"v1 : \",v1, \"\\nv2 : \",v2)\n",
    "\n",
    "print(\"distance euclidienne entre v1 et v2 : \", dist_euclidienne_vect(v1,v2))"
   ]
  },
  {
   "cell_type": "markdown",
   "metadata": {},
   "source": [
    "<font size=\"+1\" color=\"RED\">**[Q]**</font> Ecrire la fonction <code>dist_manhattan_vect</code> qui prend en argument deux exemples et rend leur distance de Manhattan. "
   ]
  },
  {
   "cell_type": "code",
   "execution_count": 8,
   "metadata": {},
   "outputs": [],
   "source": [
    "def dist_manhattan_vect(v1,v2):\n",
    "    return np.sum(np.abs(v1-v2))"
   ]
  },
  {
   "cell_type": "code",
   "execution_count": 9,
   "metadata": {
    "scrolled": true
   },
   "outputs": [
    {
     "name": "stdout",
     "output_type": "stream",
     "text": [
      "v1 :  [0.  0.6] \n",
      "v2 :  [0.14285714 0.5       ]\n",
      "distance de Manhattan entre v1 et v2 :  0.24285714285714283\n"
     ]
    }
   ],
   "source": [
    "# Exemple d'utilisation sur les 2 premiers exemples de la base:\n",
    "v1= M_data2D[0,:]\n",
    "v2= M_data2D[1,:]\n",
    "print(\"v1 : \",v1, \"\\nv2 : \",v2)\n",
    "\n",
    "print(\"distance de Manhattan entre v1 et v2 : \", dist_manhattan_vect(v1,v2))"
   ]
  },
  {
   "cell_type": "markdown",
   "metadata": {},
   "source": [
    "<font size=\"+1\" color=\"RED\">**[Q]**</font> Ecrire la fonction <code>dist_vect</code> qui prend en argument une chaîne de caractères (soit la chaîne \"euclidienne\", soit \"manhattan\") ainsi que deux vecteurs et qui rend leur distance soit euclidienne, soit de Manhattan selon le cas."
   ]
  },
  {
   "cell_type": "code",
   "execution_count": 10,
   "metadata": {},
   "outputs": [],
   "source": [
    "def dist_vect(s,v1,v2):\n",
    "    if(s == \"euclidienne\"):\n",
    "        return dist_euclidienne_vect(v1,v2)\n",
    "    else:\n",
    "        return dist_manhattan_vect(v1,v2)"
   ]
  },
  {
   "cell_type": "code",
   "execution_count": 11,
   "metadata": {
    "scrolled": true
   },
   "outputs": [
    {
     "name": "stdout",
     "output_type": "stream",
     "text": [
      "v1 :  [0.  0.6] \n",
      "v2 :  [0.14285714 0.5       ]\n",
      "distance  euclidienne  entre v1 et v2 :\t 0.17437936593905287\n",
      "distance  manhattan  entre v1 et v2 :\t 0.24285714285714283\n"
     ]
    }
   ],
   "source": [
    "v1= M_data2D[0,:]\n",
    "v2= M_data2D[1,:]\n",
    "print(\"v1 : \",v1, \"\\nv2 : \",v2)\n",
    "\n",
    "for nom in [\"euclidienne\", \"manhattan\"] :\n",
    "    print(\"distance \", nom, \" entre v1 et v2 :\\t\", dist_vect(nom,v1,v2))\n"
   ]
  },
  {
   "cell_type": "markdown",
   "metadata": {},
   "source": [
    "### Calcul de centroides"
   ]
  },
  {
   "cell_type": "markdown",
   "metadata": {},
   "source": [
    "<font size=\"+1\" color=\"RED\">**[Q]**</font> Ecrire la fonction <code>centroide</code> qui, étant donné une matrice représentant plusieurs exemples rend le centroide (calculé en faisant la moyenne de chaque composante des vecteurs de la matrice).\n",
    "On fait l'hypothèse que la matrice contient toujours au moins un exemple."
   ]
  },
  {
   "cell_type": "code",
   "execution_count": 12,
   "metadata": {},
   "outputs": [],
   "source": [
    "def centroide(matrice):\n",
    "    return np.mean(matrice, axis=0)"
   ]
  },
  {
   "cell_type": "code",
   "execution_count": 13,
   "metadata": {},
   "outputs": [
    {
     "data": {
      "text/plain": [
       "array([[0.        , 0.6       ],\n",
       "       [0.14285714, 0.5       ],\n",
       "       [0.14285714, 0.        ],\n",
       "       [0.28571429, 0.        ],\n",
       "       [0.28571429, 0.2       ],\n",
       "       [0.57142857, 0.6       ],\n",
       "       [0.57142857, 0.8       ],\n",
       "       [0.57142857, 1.        ],\n",
       "       [0.64285714, 0.        ],\n",
       "       [0.64285714, 1.        ],\n",
       "       [0.71428571, 0.        ],\n",
       "       [0.71428571, 0.8       ],\n",
       "       [0.85714286, 0.2       ],\n",
       "       [1.        , 0.6       ]])"
      ]
     },
     "execution_count": 13,
     "metadata": {},
     "output_type": "execute_result"
    }
   ],
   "source": [
    "M_data2D"
   ]
  },
  {
   "cell_type": "code",
   "execution_count": 14,
   "metadata": {},
   "outputs": [
    {
     "data": {
      "text/plain": [
       "array([0.51020408, 0.45      ])"
      ]
     },
     "execution_count": 14,
     "metadata": {},
     "output_type": "execute_result"
    }
   ],
   "source": [
    "centroide(M_data2D)"
   ]
  },
  {
   "cell_type": "code",
   "execution_count": 15,
   "metadata": {},
   "outputs": [
    {
     "data": {
      "text/plain": [
       "array([0. , 0.6])"
      ]
     },
     "execution_count": 15,
     "metadata": {},
     "output_type": "execute_result"
    }
   ],
   "source": [
    "centroide([M_data2D[0]])"
   ]
  },
  {
   "cell_type": "markdown",
   "metadata": {},
   "source": [
    "### Distances entre groupes d'exemples\n"
   ]
  },
  {
   "cell_type": "markdown",
   "metadata": {},
   "source": [
    "La distance entre deux groupes d'exemples correspond à la distance entre leurs centroïdes (approche \"centroid linkage\").\n",
    "\n",
    "<font size=\"+1\" color=\"RED\">**[Q]**</font> Ecrire la fonction <code>dist_groupes</code> qui prend en argument une chaîne de caractères (soit \"euclidienne\", soit \"manhattan\") ainsi que deux groupes de vecteurs et qui rend leur distance soit euclidienne, soit de Manhattan selon le cas.\n"
   ]
  },
  {
   "cell_type": "code",
   "execution_count": 16,
   "metadata": {},
   "outputs": [],
   "source": [
    "def dist_groupes(s, m1,m2):\n",
    "    return dist_vect(s,centroide(m1),centroide(m2))"
   ]
  },
  {
   "cell_type": "code",
   "execution_count": 17,
   "metadata": {},
   "outputs": [
    {
     "data": {
      "text/plain": [
       "0.586345478713841"
      ]
     },
     "execution_count": 17,
     "metadata": {},
     "output_type": "execute_result"
    }
   ],
   "source": [
    "# par exemple :\n",
    "dist_groupes(\"euclidienne\", M_data2D[0:4], M_data2D[5:13])"
   ]
  },
  {
   "cell_type": "markdown",
   "metadata": {},
   "source": [
    "## L'algorithme de classification hiérarchique"
   ]
  },
  {
   "cell_type": "markdown",
   "metadata": {},
   "source": [
    "Dans la suite de cet exercice, une partition (qui est un groupe de clusters) est représentée par une structure de données de type dictionnaire (<code>dict()</code> en python) :\n",
    "- la clé est un numéro de cluster (sous la forme d'un entier naturel) ;\n",
    "- la valeur associée est une matrice contenant les exemples qui sont dans le cluster correspondant.\n",
    "\n",
    "On appelle \"partition\" un tel dictionnaire.\n"
   ]
  },
  {
   "cell_type": "markdown",
   "metadata": {},
   "source": [
    "<font size=\"+1\" color=\"RED\">**[Q]**</font> Ecrire la fonction <code>initialise</code> qui, étant donné une matrice M d'exemples, rend un dictionnaire contenant autant d'entrées que d'exemples dans M. Dans ce dictionnaire, une clé est numéro d'exemple (un entier compris entre 0 et n-1, le nombre d'exemples) et la valeur associée est une matrice d'exemples contenant un exemple de M."
   ]
  },
  {
   "cell_type": "code",
   "execution_count": 18,
   "metadata": {},
   "outputs": [],
   "source": [
    "def initialise(M):\n",
    "    res = {}\n",
    "    for i in range(len(M)):\n",
    "        res[i]=np.asmatrix(M[i])\n",
    "    return res"
   ]
  },
  {
   "cell_type": "code",
   "execution_count": 19,
   "metadata": {
    "scrolled": true
   },
   "outputs": [
    {
     "data": {
      "text/plain": [
       "{0: matrix([[0. , 0.6]]),\n",
       " 1: matrix([[0.14285714, 0.5       ]]),\n",
       " 2: matrix([[0.14285714, 0.        ]]),\n",
       " 3: matrix([[0.28571429, 0.        ]]),\n",
       " 4: matrix([[0.28571429, 0.2       ]]),\n",
       " 5: matrix([[0.57142857, 0.6       ]]),\n",
       " 6: matrix([[0.57142857, 0.8       ]]),\n",
       " 7: matrix([[0.57142857, 1.        ]]),\n",
       " 8: matrix([[0.64285714, 0.        ]]),\n",
       " 9: matrix([[0.64285714, 1.        ]]),\n",
       " 10: matrix([[0.71428571, 0.        ]]),\n",
       " 11: matrix([[0.71428571, 0.8       ]]),\n",
       " 12: matrix([[0.85714286, 0.2       ]]),\n",
       " 13: matrix([[1. , 0.6]])}"
      ]
     },
     "execution_count": 19,
     "metadata": {},
     "output_type": "execute_result"
    }
   ],
   "source": [
    "# Par exemple:\n",
    "depart = initialise(M_data2D)\n",
    "# cette partition contient autant de clusters que d'exemples: on a un cluster par exemple.\n",
    "depart "
   ]
  },
  {
   "cell_type": "markdown",
   "metadata": {},
   "source": [
    "### Variante 1: chaînage par centroides"
   ]
  },
  {
   "cell_type": "markdown",
   "metadata": {},
   "source": [
    "On souhaite implémenter ici l'algorithme de classification hiérarchique basé sur l'utilisation d'un chaînage par centroides (approche \"centroid linkage\").\n",
    "\n",
    "On commence par implémenter une fonction qui, étant donné une partition, permet de regrouper les 2 clusters les plus proches. Ces 2 clusters sont alors fusionnés pour n'en former qu'un seul qui est ajouté à la partition, alors que les 2 clusters initiaux sont retirés de la partition.\n",
    "On fait l'hypothèse que la partition initiale contient au moins 2 groupes.\n",
    "\n",
    "<font size=\"+1\" color=\"RED\">**[Q]**</font> Ecrire la fonction <code>fusionne</code> qui prend en argument un nom de distance (\"euclidienne\" ou \"manhattan\") et une partition C0 et qui rend 4 valeurs :\n",
    "- la partition C1 obtenue après fusion des 2 clusters les plus proches ;\n",
    "- les clés des 2 clusters de C0 qui ont été fusionnés et qui ont donc aussi été retirés de C1 ;\n",
    "- la distance qui séparait ces 2 clusters, calculée selon le nom de distance donné."
   ]
  },
  {
   "cell_type": "code",
   "execution_count": 20,
   "metadata": {},
   "outputs": [],
   "source": [
    "def fusionne(chaine,cluster):\n",
    "    \n",
    "    f1 = 0\n",
    "    f2 = 0\n",
    "    dist = 2\n",
    "    \n",
    "    for i in cluster.keys():\n",
    "        for j in cluster.keys():\n",
    "            if i == j:\n",
    "                continue\n",
    "            tmp = dist_groupes(chaine,cluster[i],cluster[j])\n",
    "            if tmp < dist:\n",
    "                f1 = i\n",
    "                f2 = j\n",
    "                dist = tmp\n",
    "                \n",
    "    new_cluster = cluster.copy()\n",
    "    new_cluster.pop(f1)\n",
    "    new_cluster.pop(f2)\n",
    "    new_cluster[max(cluster.keys())+1] = np.concatenate([cluster.get(f1),cluster.get(f2)])\n",
    "    return new_cluster,f1,f2,dist"
   ]
  },
  {
   "cell_type": "code",
   "execution_count": 21,
   "metadata": {},
   "outputs": [
    {
     "data": {
      "text/plain": [
       "({0: matrix([[0. , 0.6]]),\n",
       "  1: matrix([[0.14285714, 0.5       ]]),\n",
       "  2: matrix([[0.14285714, 0.        ]]),\n",
       "  3: matrix([[0.28571429, 0.        ]]),\n",
       "  4: matrix([[0.28571429, 0.2       ]]),\n",
       "  5: matrix([[0.57142857, 0.6       ]]),\n",
       "  6: matrix([[0.57142857, 0.8       ]]),\n",
       "  7: matrix([[0.57142857, 1.        ]]),\n",
       "  9: matrix([[0.64285714, 1.        ]]),\n",
       "  11: matrix([[0.71428571, 0.8       ]]),\n",
       "  12: matrix([[0.85714286, 0.2       ]]),\n",
       "  13: matrix([[1. , 0.6]]),\n",
       "  14: matrix([[0.64285714, 0.        ],\n",
       "          [0.71428571, 0.        ]])},\n",
       " 8,\n",
       " 10,\n",
       " 0.0714285714285714)"
      ]
     },
     "execution_count": 21,
     "metadata": {},
     "output_type": "execute_result"
    }
   ],
   "source": [
    "# Par exemple:\n",
    "depart = initialise(M_data2D)\n",
    "fusionne(\"euclidienne\",depart) \n"
   ]
  },
  {
   "cell_type": "markdown",
   "metadata": {},
   "source": [
    "### Construction de dendrogramme"
   ]
  },
  {
   "cell_type": "markdown",
   "metadata": {},
   "source": [
    "Le dendrogramme permet de visualiser les fusions de clusters réalisés tout au long du déroulement de l'algorithme de clustering hiérarchique.\n",
    "\n",
    "Pour construire un dendrogramme, il est nécessaire de construire la matrice suivante (que l'on appelle <code>M_Fusion</code> dans ce qui suit): pour chaque ligne, cette matrice contient 4 colonnes :\n",
    "- les 2 premières colonnes contiennent les clés des groupes fusionnés ;\n",
    "- la 3e colonne contient la distance qui séparait ces 2 groupes ;\n",
    "- la 4e colonne contient la valeur 2 (c'est une valeur sans importance pour nous).\n",
    " "
   ]
  },
  {
   "cell_type": "code",
   "execution_count": 22,
   "metadata": {},
   "outputs": [
    {
     "name": "stdout",
     "output_type": "stream",
     "text": [
      "\n",
      "La matrice M_Fusion obtenue :\n",
      " [[ 8.         10.          0.07142857  2.        ]\n",
      " [ 7.          9.          0.07142857  2.        ]\n",
      " [ 2.          3.          0.14285714  2.        ]\n",
      " [ 6.         11.          0.14285714  2.        ]\n",
      " [ 0.          1.          0.17437937  2.        ]\n",
      " [15.         17.          0.20316375  2.        ]\n",
      " [ 4.         16.          0.21237241  2.        ]\n",
      " [12.         14.          0.26811892  2.        ]\n",
      " [19.          5.          0.30474563  2.        ]\n",
      " [22.         13.          0.45428571  2.        ]\n",
      " [20.         21.          0.5         2.        ]\n",
      " [24.         18.          0.63813966  2.        ]\n",
      " [25.         23.          0.67968424  2.        ]]\n"
     ]
    }
   ],
   "source": [
    "# Exemple de construction de la matrice M_Fusion en utilisant les fonctions écrites\n",
    "# dans les questions précédentes\n",
    "\n",
    "# initialisation \n",
    "courant = initialise(M_data2D)       # clustering courant, au départ:s données data_2D normalisées\n",
    "M_Fusion = []                        # initialisation\n",
    "while len(courant) >=2:              # tant qu'il y a 2 groupes à fusionner\n",
    "    new,k1,k2,dist_min = fusionne('euclidienne',courant)\n",
    "    if(len(M_Fusion)==0):\n",
    "        M_Fusion = [k1,k2,dist_min,2]\n",
    "    else:\n",
    "        M_Fusion = np.vstack( [M_Fusion,[k1,k2,dist_min,2] ])\n",
    "    courant = new\n",
    "    \n",
    "print('\\nLa matrice M_Fusion obtenue :\\n',M_Fusion)"
   ]
  },
  {
   "cell_type": "markdown",
   "metadata": {},
   "source": [
    "Une fois la matrice <code>M_Fusion</code> construite, le tracé d'un histogramme s'effectue avec le code suivant :"
   ]
  },
  {
   "cell_type": "code",
   "execution_count": 23,
   "metadata": {},
   "outputs": [
    {
     "data": {
      "image/png": "[encoded data removed]",
      "text/plain": [
       "<Figure size 2160x1080 with 1 Axes>"
      ]
     },
     "metadata": {},
     "output_type": "display_data"
    }
   ],
   "source": [
    "import scipy.cluster.hierarchy\n",
    "\n",
    "# Paramètre de la fenêtre d'affichage: \n",
    "plt.figure(figsize=(30, 15)) # taille : largeur x hauteur\n",
    "plt.title('Dendrogramme', fontsize=25)    \n",
    "plt.xlabel('Exemple', fontsize=25)\n",
    "plt.ylabel('Distance', fontsize=25)\n",
    "\n",
    "# Construction du dendrogramme à partir de la matrice M_Fusion:\n",
    "scipy.cluster.hierarchy.dendrogram(\n",
    "    M_Fusion,\n",
    "    leaf_font_size=18.,  # taille des caractères de l'axe des X\n",
    ")\n",
    "\n",
    "# Affichage du résultat obtenu:\n",
    "plt.show()"
   ]
  },
  {
   "cell_type": "markdown",
   "metadata": {},
   "source": [
    "<font size=\"+1\" color=\"RED\">**[Q]**</font> Ecrire la fonction <code>clustering_hierarchique</code> qui, pour une base d'apprentissage et un nom de distance donné, permet de réaliser un clustering hiérarchique et de tracer le dendrogramme obtenu.\n",
    "\n",
    "La fonction rend la matrice <code>M_Fusion</code> construite."
   ]
  },
  {
   "cell_type": "code",
   "execution_count": 24,
   "metadata": {},
   "outputs": [],
   "source": [
    "import scipy.cluster.hierarchy\n",
    "\n",
    "def clustering_hierarchique(base,distance):\n",
    "        \n",
    "    data = pd.read_csv(base)\n",
    "    M_data = normalisation(data)\n",
    "    print(M_data)\n",
    "        # initialisation \n",
    "    courant = initialise(M_data)         # clustering courant, au départ:s données data_2D normalisées\n",
    "    M_Fusion = []                        # initialisation\n",
    "    while len(courant) >=2:              # tant qu'il y a 2 groupes à fusionner\n",
    "        new,k1,k2,dist_min = fusionne(distance,courant)\n",
    "        if(len(M_Fusion)==0):\n",
    "            M_Fusion = [k1,k2,dist_min,2]\n",
    "        else:\n",
    "            M_Fusion = np.vstack( [M_Fusion,[k1,k2,dist_min,2] ])\n",
    "        courant = new\n",
    "    \n",
    "    print('\\nLa matrice M_Fusion obtenue :\\n',M_Fusion)\n",
    "    # Paramètre de la fenêtre d'affichage: \n",
    "    plt.figure(figsize=(30, 15)) # taille : largeur x hauteur\n",
    "    plt.title('Dendrogramme', fontsize=25)    \n",
    "    plt.xlabel('Exemple', fontsize=25)\n",
    "    plt.ylabel('Distance', fontsize=25)\n",
    "\n",
    "# Construction du dendrogramme à partir de la matrice M_Fusion:\n",
    "    scipy.cluster.hierarchy.dendrogram(\n",
    "        M_Fusion,\n",
    "        leaf_font_size=18.,  # taille des caractères de l'axe des X\n",
    "    )\n",
    "\n",
    "# Affichage du résultat obtenu:\n",
    "    plt.show()"
   ]
  },
  {
   "cell_type": "markdown",
   "metadata": {},
   "source": [
    "### Comparaison de distances"
   ]
  },
  {
   "cell_type": "markdown",
   "metadata": {},
   "source": [
    "<font size=\"+1\" color=\"RED\">**[Q]**</font> Réaliser un clustering en utilisant la distance de Manhattan. Comparer les résultats obtenus avec cette distance avec ceux obtenus avec la distance euclidienne. Est-ce que l'utilisation de cette distance vous semble pertinent?"
   ]
  },
  {
   "cell_type": "code",
   "execution_count": 25,
   "metadata": {},
   "outputs": [
    {
     "name": "stdout",
     "output_type": "stream",
     "text": [
      "Colone X : 0.0 7.0\n",
      "Colone Y : 1.0 6.0\n",
      "[[0.         0.6       ]\n",
      " [0.14285714 0.5       ]\n",
      " [0.14285714 0.        ]\n",
      " [0.28571429 0.        ]\n",
      " [0.28571429 0.2       ]\n",
      " [0.57142857 0.6       ]\n",
      " [0.57142857 0.8       ]\n",
      " [0.57142857 1.        ]\n",
      " [0.64285714 0.        ]\n",
      " [0.64285714 1.        ]\n",
      " [0.71428571 0.        ]\n",
      " [0.71428571 0.8       ]\n",
      " [0.85714286 0.2       ]\n",
      " [1.         0.6       ]]\n",
      "\n",
      "La matrice M_Fusion obtenue :\n",
      " [[ 8.         10.          0.07142857  2.        ]\n",
      " [ 7.          9.          0.07142857  2.        ]\n",
      " [ 2.          3.          0.14285714  2.        ]\n",
      " [ 6.         11.          0.14285714  2.        ]\n",
      " [15.         17.          0.23571429  2.        ]\n",
      " [ 0.          1.          0.24285714  2.        ]\n",
      " [ 4.         16.          0.27142857  2.        ]\n",
      " [ 5.         18.          0.35357143  2.        ]\n",
      " [12.         14.          0.37857143  2.        ]\n",
      " [20.         22.          0.5         2.        ]\n",
      " [21.         13.          0.62571429  2.        ]\n",
      " [24.         19.          0.85714286  2.        ]\n",
      " [25.         23.          0.70952381  2.        ]]\n"
     ]
    },
    {
     "name": "stderr",
     "output_type": "stream",
     "text": [
      "/usr/local/lib/python3.5/dist-packages/ipykernel_launcher.py:5: FutureWarning: Method .as_matrix will be removed in a future version. Use .values instead.\n",
      "  \"\"\"\n"
     ]
    },
    {
     "data": {
      "image/png": "[encoded data removed]",
      "text/plain": [
       "<Figure size 2160x1080 with 1 Axes>"
      ]
     },
     "metadata": {},
     "output_type": "display_data"
    }
   ],
   "source": [
    "clustering_hierarchique(\"data/base-2D.csv\",\"manhattan\")"
   ]
  },
  {
   "cell_type": "code",
   "execution_count": 26,
   "metadata": {},
   "outputs": [
    {
     "name": "stdout",
     "output_type": "stream",
     "text": [
      "Colone X : 0.0 7.0\n",
      "Colone Y : 1.0 6.0\n",
      "[[0.         0.6       ]\n",
      " [0.14285714 0.5       ]\n",
      " [0.14285714 0.        ]\n",
      " [0.28571429 0.        ]\n",
      " [0.28571429 0.2       ]\n",
      " [0.57142857 0.6       ]\n",
      " [0.57142857 0.8       ]\n",
      " [0.57142857 1.        ]\n",
      " [0.64285714 0.        ]\n",
      " [0.64285714 1.        ]\n",
      " [0.71428571 0.        ]\n",
      " [0.71428571 0.8       ]\n",
      " [0.85714286 0.2       ]\n",
      " [1.         0.6       ]]\n",
      "\n",
      "La matrice M_Fusion obtenue :\n",
      " [[ 8.         10.          0.07142857  2.        ]\n",
      " [ 7.          9.          0.07142857  2.        ]\n",
      " [ 2.          3.          0.14285714  2.        ]\n",
      " [ 6.         11.          0.14285714  2.        ]\n",
      " [ 0.          1.          0.17437937  2.        ]\n",
      " [15.         17.          0.20316375  2.        ]\n",
      " [ 4.         16.          0.21237241  2.        ]\n",
      " [12.         14.          0.26811892  2.        ]\n",
      " [19.          5.          0.30474563  2.        ]\n",
      " [22.         13.          0.45428571  2.        ]\n",
      " [20.         21.          0.5         2.        ]\n",
      " [24.         18.          0.63813966  2.        ]\n",
      " [25.         23.          0.67968424  2.        ]]\n"
     ]
    },
    {
     "name": "stderr",
     "output_type": "stream",
     "text": [
      "/usr/local/lib/python3.5/dist-packages/ipykernel_launcher.py:5: FutureWarning: Method .as_matrix will be removed in a future version. Use .values instead.\n",
      "  \"\"\"\n"
     ]
    },
    {
     "data": {
      "image/png": "[encoded data removed]",
      "text/plain": [
       "<Figure size 2160x1080 with 1 Axes>"
      ]
     },
     "metadata": {},
     "output_type": "display_data"
    }
   ],
   "source": [
    "clustering_hierarchique(\"data/base-2D.csv\",\"euclidienne\")"
   ]
  },
  {
   "cell_type": "markdown",
   "metadata": {},
   "source": [
    "### Variante 2: chaînage complet (maximum des distances)"
   ]
  },
  {
   "cell_type": "markdown",
   "metadata": {},
   "source": [
    "On considère maintenant l'approche \"complete linkage\". \n",
    "\n",
    "<font size=\"+1\" color=\"RED\">**[Q]**</font> Ecrire la fonction <code>dist_max_groupes</code> qui, étant donné deux clusters, calcule leur distance ainsi définie. Cette fonction prend 3 arguments: un nom de distance à utiliser (\"euclidienne\" ou \"manhattan\") et deux clusters.\n",
    "On fait l'hypothèse que les 2 clusters contiennent au moins un exemple.\n"
   ]
  },
  {
   "cell_type": "code",
   "execution_count": 27,
   "metadata": {},
   "outputs": [],
   "source": [
    "def dist_max_groupes(distance, cluster1, cluster2):\n",
    "    distances = list()\n",
    "    for i in cluster1:\n",
    "        for j in cluster2:\n",
    "            distances.append(dist_vect(distance,i,j))\n",
    "    return max(distances)"
   ]
  },
  {
   "cell_type": "code",
   "execution_count": 28,
   "metadata": {},
   "outputs": [
    {
     "data": {
      "text/plain": [
       "1.118033988749895"
      ]
     },
     "execution_count": 28,
     "metadata": {},
     "output_type": "execute_result"
    }
   ],
   "source": [
    "dist_max_groupes(\"euclidienne\", M_data2D[0:5], M_data2D[6:13])"
   ]
  },
  {
   "cell_type": "markdown",
   "metadata": {},
   "source": [
    "La distance <code>dist_max_groupes</code> est utilisée lors d'un clustering hiérarchique basé sur un chaînage complet.\n",
    "\n",
    "<font size=\"+1\" color=\"RED\">**[Q]**</font> Implémenter une variante du clustering hiérarchique qui utilise cette distance."
   ]
  },
  {
   "cell_type": "code",
   "execution_count": 29,
   "metadata": {},
   "outputs": [],
   "source": [
    "def fusionne_C(chaine,cluster):\n",
    "    \n",
    "    f1 = 0\n",
    "    f2 = 0\n",
    "    dist = 2\n",
    "    \n",
    "    for i in cluster.keys():\n",
    "        for j in cluster.keys():\n",
    "            if i == j:\n",
    "                continue\n",
    "            tmp = dist_groupes(chaine,cluster[i],cluster[j])\n",
    "            if tmp < dist:\n",
    "                f1 = i\n",
    "                f2 = j\n",
    "                dist = tmp\n",
    "                \n",
    "    new_cluster = cluster.copy()\n",
    "    new_cluster.pop(f1)\n",
    "    new_cluster.pop(f2)\n",
    "    new_cluster[max(cluster.keys())+1] = np.concatenate([cluster.get(f1),cluster.get(f2)])\n",
    "    return new_cluster,f1,f2,dist\n",
    "\n",
    "def clustering_hierarchique_C(base,distance):\n",
    "        \n",
    "    data = pd.read_csv(base)\n",
    "    M_data = normalisation(data)\n",
    "        # initialisation \n",
    "    courant = initialise(M_data)         # clustering courant, au départ:s données data_2D normalisées\n",
    "    M_Fusion = []                        # initialisation\n",
    "    while len(courant) >=2:              # tant qu'il y a 2 groupes à fusionner\n",
    "        new,k1,k2,dist_min = fusionne_C(distance,courant)\n",
    "        if(len(M_Fusion)==0):\n",
    "            M_Fusion = [k1,k2,dist_min,2]\n",
    "        else:\n",
    "            M_Fusion = np.vstack( [M_Fusion,[k1,k2,dist_min,2] ])\n",
    "        courant = new\n",
    "    \n",
    "    print('\\nLa matrice M_Fusion obtenue :\\n',M_Fusion)\n",
    "    # Paramètre de la fenêtre d'affichage: \n",
    "    plt.figure(figsize=(30, 15)) # taille : largeur x hauteur\n",
    "    plt.title('Dendrogramme', fontsize=25)    \n",
    "    plt.xlabel('Exemple', fontsize=25)\n",
    "    plt.ylabel('Distance', fontsize=25)\n",
    "\n",
    "# Construction du dendrogramme à partir de la matrice M_Fusion:\n",
    "    scipy.cluster.hierarchy.dendrogram(\n",
    "        M_Fusion,\n",
    "        leaf_font_size=18.,  # taille des caractères de l'axe des X\n",
    "    )\n",
    "\n",
    "# Affichage du résultat obtenu:\n",
    "    plt.show()"
   ]
  },
  {
   "cell_type": "markdown",
   "metadata": {},
   "source": [
    "## Phase 2 : application à des données réelles"
   ]
  },
  {
   "cell_type": "markdown",
   "metadata": {},
   "source": [
    "### Données: traitement des déchets de la ville de Paris"
   ]
  },
  {
   "cell_type": "markdown",
   "metadata": {},
   "source": [
    "Récupérer les données concernant le traitement des déchets de la ville de Paris :\n",
    "http://opendata.paris.fr/explore/dataset/tonnages_des_dechets_bacs_jaunes/table/\n",
    "\n",
    "**Attention**: il faut certainement préparer cette base afin de pouvoir appliquer l'algorithme de clustering: en particulier, certaines colonnes (Granularité, Total...) ne sont pas à utilisables dans le calcul des distances, il faut donc les éliminer. Il faut aussi prévoir de conserver le nom de l'arrondissement afin de pouvoir à la fin analyser le résultat du clustering.\n",
    "\n",
    "Sauvegarder ces données, prêtes à être traitées par l'algorithme de clustering, au format CSV dans le répertoire <pre>data/</pre> sous le nom <pre>base-Paris.csv</pre>\n",
    "\n",
    "<font size=\"+1\" color=\"RED\">**[Q]**</font> Etudier cette base et les clusters qui peuvent être mis en évidence.\n"
   ]
  },
  {
   "cell_type": "code",
   "execution_count": 32,
   "metadata": {},
   "outputs": [],
   "source": [
    "data_Paris = pd.read_csv(\"data/base-Paris.csv\")"
   ]
  },
  {
   "cell_type": "code",
   "execution_count": 33,
   "metadata": {},
   "outputs": [
    {
     "data": {
      "text/html": [
       "<div>\n",
       "<style scoped>\n",
       "    .dataframe tbody tr th:only-of-type {\n",
       "        vertical-align: middle;\n",
       "    }\n",
       "\n",
       "    .dataframe tbody tr th {\n",
       "        vertical-align: top;\n",
       "    }\n",
       "\n",
       "    .dataframe thead th {\n",
       "        text-align: right;\n",
       "    }\n",
       "</style>\n",
       "<table border=\"1\" class=\"dataframe\">\n",
       "  <thead>\n",
       "    <tr style=\"text-align: right;\">\n",
       "      <th></th>\n",
       "      <th></th>\n",
       "      <th></th>\n",
       "      <th></th>\n",
       "      <th></th>\n",
       "      <th></th>\n",
       "      <th></th>\n",
       "      <th></th>\n",
       "      <th></th>\n",
       "      <th></th>\n",
       "      <th></th>\n",
       "      <th></th>\n",
       "      <th>Granularité;janv-11;févr-11;mars-11;avr-11;mai-11;juin-11;juil-11;août-11;sept-11;oct-11;nov-11;déc-11;Total arrondissement 2011</th>\n",
       "    </tr>\n",
       "  </thead>\n",
       "  <tbody>\n",
       "    <tr>\n",
       "      <th>75007;288</th>\n",
       "      <th>1;249</th>\n",
       "      <th>1;303</th>\n",
       "      <th>7;255</th>\n",
       "      <th>8;287</th>\n",
       "      <th>8;288</th>\n",
       "      <th>4;249</th>\n",
       "      <th>6;185</th>\n",
       "      <th>6;281</th>\n",
       "      <th>3;284</th>\n",
       "      <th>3;296</th>\n",
       "      <th>4;301</th>\n",
       "      <td>1;</td>\n",
       "    </tr>\n",
       "    <tr>\n",
       "      <th>75013;596</th>\n",
       "      <th>5;540</th>\n",
       "      <th>2;618</th>\n",
       "      <th>5;558</th>\n",
       "      <th>6;595</th>\n",
       "      <th>9;581</th>\n",
       "      <th>7;539</th>\n",
       "      <th>2;490</th>\n",
       "      <th>5;597</th>\n",
       "      <th>8;575</th>\n",
       "      <th>7;580</th>\n",
       "      <th>5;601</th>\n",
       "      <td>4;</td>\n",
       "    </tr>\n",
       "    <tr>\n",
       "      <th>75014;464;404</th>\n",
       "      <th>9;465</th>\n",
       "      <th>3;420</th>\n",
       "      <th>2;405</th>\n",
       "      <th>3;446;412</th>\n",
       "      <th>9;348</th>\n",
       "      <th>7;449</th>\n",
       "      <th>3;446</th>\n",
       "      <th>3;453</th>\n",
       "      <th>1;484</th>\n",
       "      <th>3;</th>\n",
       "      <th>NaN</th>\n",
       "      <td>NaN</td>\n",
       "    </tr>\n",
       "    <tr>\n",
       "      <th>75015;903</th>\n",
       "      <th>1;801</th>\n",
       "      <th>4;937</th>\n",
       "      <th>5;835</th>\n",
       "      <th>5;876</th>\n",
       "      <th>8;888</th>\n",
       "      <th>6;628</th>\n",
       "      <th>8;674</th>\n",
       "      <th>8;913</th>\n",
       "      <th>3;878</th>\n",
       "      <th>7;895</th>\n",
       "      <th>7;935</th>\n",
       "      <td>8;</td>\n",
       "    </tr>\n",
       "    <tr>\n",
       "      <th>75017;451</th>\n",
       "      <th>1;412</th>\n",
       "      <th>4;491</th>\n",
       "      <th>6;422</th>\n",
       "      <th>7;363</th>\n",
       "      <th>6;446</th>\n",
       "      <th>4;409</th>\n",
       "      <th>5;332</th>\n",
       "      <th>3;416</th>\n",
       "      <th>4;451</th>\n",
       "      <th>5;475</th>\n",
       "      <th>1;513</th>\n",
       "      <td>5;</td>\n",
       "    </tr>\n",
       "    <tr>\n",
       "      <th>75018;427;394</th>\n",
       "      <th>3;455</th>\n",
       "      <th>2;419</th>\n",
       "      <th>9;458</th>\n",
       "      <th>3;456</th>\n",
       "      <th>6;418;361</th>\n",
       "      <th>8;464</th>\n",
       "      <th>6;453</th>\n",
       "      <th>4;478</th>\n",
       "      <th>5;470</th>\n",
       "      <th>9;</th>\n",
       "      <th>NaN</th>\n",
       "      <td>NaN</td>\n",
       "    </tr>\n",
       "    <tr>\n",
       "      <th>75019;323</th>\n",
       "      <th>4;287</th>\n",
       "      <th>3;350</th>\n",
       "      <th>3;317</th>\n",
       "      <th>8;336</th>\n",
       "      <th>9;340</th>\n",
       "      <th>7;311</th>\n",
       "      <th>6;281;345</th>\n",
       "      <th>6;335</th>\n",
       "      <th>6;367;354</th>\n",
       "      <th>5;</th>\n",
       "      <th>NaN</th>\n",
       "      <td>NaN</td>\n",
       "    </tr>\n",
       "    <tr>\n",
       "      <th>75002;153;125</th>\n",
       "      <th>8;136</th>\n",
       "      <th>6;126</th>\n",
       "      <th>6;133</th>\n",
       "      <th>2;127</th>\n",
       "      <th>6;126</th>\n",
       "      <th>7;114</th>\n",
       "      <th>3;144</th>\n",
       "      <th>3;145</th>\n",
       "      <th>1;129</th>\n",
       "      <th>5;129</th>\n",
       "      <th>8;</th>\n",
       "      <td>NaN</td>\n",
       "    </tr>\n",
       "    <tr>\n",
       "      <th>75004;116</th>\n",
       "      <th>3;115</th>\n",
       "      <th>7;133</th>\n",
       "      <th>4;115;123</th>\n",
       "      <th>2;120</th>\n",
       "      <th>5;114</th>\n",
       "      <th>5;97</th>\n",
       "      <th>6;130</th>\n",
       "      <th>5;123;124</th>\n",
       "      <th>3;133</th>\n",
       "      <th>7;</th>\n",
       "      <th>NaN</th>\n",
       "      <td>NaN</td>\n",
       "    </tr>\n",
       "    <tr>\n",
       "      <th>75008;252</th>\n",
       "      <th>6;246</th>\n",
       "      <th>7;252</th>\n",
       "      <th>9;232</th>\n",
       "      <th>5;199</th>\n",
       "      <th>4;236</th>\n",
       "      <th>4;175</th>\n",
       "      <th>4;189</th>\n",
       "      <th>4;266</th>\n",
       "      <th>6;230</th>\n",
       "      <th>3;257</th>\n",
       "      <th>7;224</th>\n",
       "      <td>4;</td>\n",
       "    </tr>\n",
       "    <tr>\n",
       "      <th>75012;484</th>\n",
       "      <th>2;445</th>\n",
       "      <th>9;517;452;402;488;456;409;506;495;493;502;</th>\n",
       "      <th>NaN</th>\n",
       "      <th>NaN</th>\n",
       "      <th>NaN</th>\n",
       "      <th>NaN</th>\n",
       "      <th>NaN</th>\n",
       "      <th>NaN</th>\n",
       "      <th>NaN</th>\n",
       "      <th>NaN</th>\n",
       "      <th>NaN</th>\n",
       "      <td>NaN</td>\n",
       "    </tr>\n",
       "    <tr>\n",
       "      <th>75016;584</th>\n",
       "      <th>1;571</th>\n",
       "      <th>2;684</th>\n",
       "      <th>7;590</th>\n",
       "      <th>3;563</th>\n",
       "      <th>4;666</th>\n",
       "      <th>3;570</th>\n",
       "      <th>4;433</th>\n",
       "      <th>2;679</th>\n",
       "      <th>7;656</th>\n",
       "      <th>1;662</th>\n",
       "      <th>6;699</th>\n",
       "      <td>9;</td>\n",
       "    </tr>\n",
       "    <tr>\n",
       "      <th>75020;394</th>\n",
       "      <th>1;366</th>\n",
       "      <th>3;422</th>\n",
       "      <th>7;367</th>\n",
       "      <th>1;273</th>\n",
       "      <th>5;381</th>\n",
       "      <th>7;353</th>\n",
       "      <th>4;297;414;350;410</th>\n",
       "      <th>6;410;</th>\n",
       "      <th>NaN</th>\n",
       "      <th>NaN</th>\n",
       "      <th>NaN</th>\n",
       "      <td>NaN</td>\n",
       "    </tr>\n",
       "    <tr>\n",
       "      <th>Tout Paris;7 134</th>\n",
       "      <th>20;6 462</th>\n",
       "      <th>60;7 517</th>\n",
       "      <th>40;6 656</th>\n",
       "      <th>60;6 563</th>\n",
       "      <th>40;7 063;6 220</th>\n",
       "      <th>20;5 464;7 296</th>\n",
       "      <th>30;7 084</th>\n",
       "      <th>60;7 291</th>\n",
       "      <th>70;7 492</th>\n",
       "      <th>80;</th>\n",
       "      <th>NaN</th>\n",
       "      <td>NaN</td>\n",
       "    </tr>\n",
       "    <tr>\n",
       "      <th>75001;75</th>\n",
       "      <th>3;60</th>\n",
       "      <th>4;71</th>\n",
       "      <th>2;59</th>\n",
       "      <th>5;73</th>\n",
       "      <th>9;72;57</th>\n",
       "      <th>9;56</th>\n",
       "      <th>4;75</th>\n",
       "      <th>5;75</th>\n",
       "      <th>7;65</th>\n",
       "      <th>8;79</th>\n",
       "      <th>1;</th>\n",
       "      <td>NaN</td>\n",
       "    </tr>\n",
       "    <tr>\n",
       "      <th>75005;247;211;251;218;185;224;213</th>\n",
       "      <th>3;162</th>\n",
       "      <th>9;203</th>\n",
       "      <th>4;232</th>\n",
       "      <th>1;227</th>\n",
       "      <th>6;251</th>\n",
       "      <th>6;</th>\n",
       "      <th>NaN</th>\n",
       "      <th>NaN</th>\n",
       "      <th>NaN</th>\n",
       "      <th>NaN</th>\n",
       "      <th>NaN</th>\n",
       "      <td>NaN</td>\n",
       "    </tr>\n",
       "    <tr>\n",
       "      <th>75006;222;189;218;192;180;199;171</th>\n",
       "      <th>8;134</th>\n",
       "      <th>8;183</th>\n",
       "      <th>1;195</th>\n",
       "      <th>5;213</th>\n",
       "      <th>8;204</th>\n",
       "      <th>1;</th>\n",
       "      <th>NaN</th>\n",
       "      <th>NaN</th>\n",
       "      <th>NaN</th>\n",
       "      <th>NaN</th>\n",
       "      <th>NaN</th>\n",
       "      <td>NaN</td>\n",
       "    </tr>\n",
       "    <tr>\n",
       "      <th>75010;273;248</th>\n",
       "      <th>6;292</th>\n",
       "      <th>2;255</th>\n",
       "      <th>2;284</th>\n",
       "      <th>3;267</th>\n",
       "      <th>3;246</th>\n",
       "      <th>6;210</th>\n",
       "      <th>3;280</th>\n",
       "      <th>6;275</th>\n",
       "      <th>6;284</th>\n",
       "      <th>6;283</th>\n",
       "      <th>2;</th>\n",
       "      <td>NaN</td>\n",
       "    </tr>\n",
       "    <tr>\n",
       "      <th>75011;487</th>\n",
       "      <th>2;422</th>\n",
       "      <th>2;491;437;466;443;373</th>\n",
       "      <th>5;367</th>\n",
       "      <th>5;511</th>\n",
       "      <th>9;490</th>\n",
       "      <th>6;469</th>\n",
       "      <th>2;487</th>\n",
       "      <th>9;</th>\n",
       "      <th>NaN</th>\n",
       "      <th>NaN</th>\n",
       "      <th>NaN</th>\n",
       "      <td>NaN</td>\n",
       "    </tr>\n",
       "    <tr>\n",
       "      <th>75003;183</th>\n",
       "      <th>9;173</th>\n",
       "      <th>1;204</th>\n",
       "      <th>2;183;203</th>\n",
       "      <th>2;181</th>\n",
       "      <th>9;191</th>\n",
       "      <th>2;153</th>\n",
       "      <th>6;208</th>\n",
       "      <th>6;186</th>\n",
       "      <th>5;192</th>\n",
       "      <th>9;189</th>\n",
       "      <th>9;</th>\n",
       "      <td>NaN</td>\n",
       "    </tr>\n",
       "  </tbody>\n",
       "</table>\n",
       "</div>"
      ],
      "text/plain": [
       "                                                                                                                                                                                          Granularité;janv-11;févr-11;mars-11;avr-11;mai-11;juin-11;juil-11;août-11;sept-11;oct-11;nov-11;déc-11;Total arrondissement 2011\n",
       "75007;288                         1;249    1;303                                      7;255     8;287     8;288          4;249          6;185             6;281     3;284     3;296 4;301                                                 1;                                                                              \n",
       "75013;596                         5;540    2;618                                      5;558     6;595     9;581          7;539          2;490             5;597     8;575     7;580 5;601                                                 4;                                                                              \n",
       "75014;464;404                     9;465    3;420                                      2;405     3;446;412 9;348          7;449          3;446             3;453     1;484     3;    NaN                                                  NaN                                                                              \n",
       "75015;903                         1;801    4;937                                      5;835     5;876     8;888          6;628          8;674             8;913     3;878     7;895 7;935                                                 8;                                                                              \n",
       "75017;451                         1;412    4;491                                      6;422     7;363     6;446          4;409          5;332             3;416     4;451     5;475 1;513                                                 5;                                                                              \n",
       "75018;427;394                     3;455    2;419                                      9;458     3;456     6;418;361      8;464          6;453             4;478     5;470     9;    NaN                                                  NaN                                                                              \n",
       "75019;323                         4;287    3;350                                      3;317     8;336     9;340          7;311          6;281;345         6;335     6;367;354 5;    NaN                                                  NaN                                                                              \n",
       "75002;153;125                     8;136    6;126                                      6;133     2;127     6;126          7;114          3;144             3;145     1;129     5;129 8;                                                   NaN                                                                              \n",
       "75004;116                         3;115    7;133                                      4;115;123 2;120     5;114          5;97           6;130             5;123;124 3;133     7;    NaN                                                  NaN                                                                              \n",
       "75008;252                         6;246    7;252                                      9;232     5;199     4;236          4;175          4;189             4;266     6;230     3;257 7;224                                                 4;                                                                              \n",
       "75012;484                         2;445    9;517;452;402;488;456;409;506;495;493;502; NaN       NaN       NaN            NaN            NaN               NaN       NaN       NaN   NaN                                                  NaN                                                                              \n",
       "75016;584                         1;571    2;684                                      7;590     3;563     4;666          3;570          4;433             2;679     7;656     1;662 6;699                                                 9;                                                                              \n",
       "75020;394                         1;366    3;422                                      7;367     1;273     5;381          7;353          4;297;414;350;410 6;410;    NaN       NaN   NaN                                                  NaN                                                                              \n",
       "Tout Paris;7 134                  20;6 462 60;7 517                                   40;6 656  60;6 563  40;7 063;6 220 20;5 464;7 296 30;7 084          60;7 291  70;7 492  80;   NaN                                                  NaN                                                                              \n",
       "75001;75                          3;60     4;71                                       2;59      5;73      9;72;57        9;56           4;75              5;75      7;65      8;79  1;                                                   NaN                                                                              \n",
       "75005;247;211;251;218;185;224;213 3;162    9;203                                      4;232     1;227     6;251          6;             NaN               NaN       NaN       NaN   NaN                                                  NaN                                                                              \n",
       "75006;222;189;218;192;180;199;171 8;134    8;183                                      1;195     5;213     8;204          1;             NaN               NaN       NaN       NaN   NaN                                                  NaN                                                                              \n",
       "75010;273;248                     6;292    2;255                                      2;284     3;267     3;246          6;210          3;280             6;275     6;284     6;283 2;                                                   NaN                                                                              \n",
       "75011;487                         2;422    2;491;437;466;443;373                      5;367     5;511     9;490          6;469          2;487             9;        NaN       NaN   NaN                                                  NaN                                                                              \n",
       "75003;183                         9;173    1;204                                      2;183;203 2;181     9;191          2;153          6;208             6;186     5;192     9;189 9;                                                   NaN                                                                              "
      ]
     },
     "execution_count": 33,
     "metadata": {},
     "output_type": "execute_result"
    }
   ],
   "source": [
    "data_Paris.head(-1)"
   ]
  },
  {
   "cell_type": "markdown",
   "metadata": {
    "collapsed": true
   },
   "source": [
    "<font size=\"+1\" color=\"RED\">**[Q]**</font> Préparer un rapport d'analyse (c'est-à-dire, compléter votre notebook en rajoutant à la suite tout un ensemble d'expérimentations et de résultats obtenus sur la base) réalisé sur cette base qui mette en évidence les clusters existants à différents niveaux de distance, et en utilisant différentes distances.\n"
   ]
  },
  {
   "cell_type": "code",
   "execution_count": null,
   "metadata": {},
   "outputs": [],
   "source": []
  },
  {
   "cell_type": "markdown",
   "metadata": {},
   "source": [
    "## Questions de cours (à faire chez vous, sur papier)\n",
    "\n",
    "Pour vous entraîner sans machine...\n",
    "\n",
    "<font color=\"RED\" size=\"+1\">**[Q]**</font> Montrer que la distance de Manhattan est bien une mesure de distance.\n",
    "\n",
    "<font color=\"RED\" size=\"+1\">**[Q]**</font> Dans le cours, 4 approches possibles ont été données afin de calculer la distance entre 2 groupes :\n",
    "- l'approche du chaînage minimum est appelée \"simple linkage\"\n",
    "- l'approche du chaînage maximum, est appelée \"complete linkage\"\n",
    "- l'approche du chaînage moyenne est appelée \"average linkage\"\n",
    "- l'approche du par centre de gravité est appelée \"centroid linkage\"\n",
    "\n",
    "On considère une mesure de distance $d$. Soit $A =\\{a_1,a_2,...,a_{|A|}\\}$ et $B =\\{b_1,b_2,...,b_{|B|}\\}$ deux groupes d'exemples. Donner l'expression de la distance entre $A$ et $B$ pour chacune des approches.\n",
    "\n",
    "\n",
    "<font color=\"RED\" size=\"+1\">**[Q]**</font> En utilisant la distance euclidienne et l'approche \"centroid linkage\", appliquer, \"à la main\", l'algorithme de clustering hiérarchique, méthode par agglomération, sur les données fournies sur le transparent 10 du cours 2 (coin haut gauche). Dans cette page, les données correspondent à 9 points dans un espace 2D: $X_1 \\times X_2$. Le point 1 est le point de coordonnées $(-0.5, -1.0)$, etc. \n",
    "Construire le dendrogramme correspondant.\n",
    "\n",
    "rem : dans la page du cours, les 3 premiers clusters construits sont donnés.\n",
    "\n",
    "\n",
    "<font color=\"RED\" size=\"+1\">**[Q]**</font> *(examen 2018)*\n",
    "On considère la base d'apprentissage de $[0,10]\\times [0,10]$ contenant les 7 exemples suivants: $\\mathcal{X}=\\{(1,2)$, $(1,4)$, $(3,4)$, $(3,5)$, $(6,2)$, $(6,5)$, $(8,3)\\}$ (remarque: cette base est déjà normalisée).\n",
    "En détaillant les étapes et en expliquant les calculs réalisés et les regroupements effectués, appliquer sur $\\mathcal{X}$ l'algorithme de classification hiérarchique, version ascendante, en utilisant l'approche ``centroid linkage'' et la distance euclidienne.  Donner le dendrogramme obtenu.\n",
    "<font color=\"RED\" size=\"+1\">**[Q]**</font> Si on rajoute l'exemple $(5,5)$ dans $\\mathcal{X}$ de la question précédente, sans ré-appliquer l'algorithme donner, en les justifiant, les modifications apportées au dendrogramme précédent par l'ajout de cet exemple."
   ]
  },
  {
   "cell_type": "code",
   "execution_count": null,
   "metadata": {},
   "outputs": [],
   "source": []
  }
 ],
 "metadata": {
  "kernelspec": {
   "display_name": "Python 3",
   "language": "python",
   "name": "python3"
  },
  "language_info": {
   "codemirror_mode": {
    "name": "ipython",
    "version": 3
   },
   "file_extension": ".py",
   "mimetype": "text/x-python",
   "name": "python",
   "nbconvert_exporter": "python",
   "pygments_lexer": "ipython3",
   "version": "3.5.3"
  }
 },
 "nbformat": 4,
 "nbformat_minor": 1
}
