{
 "cells": [
  {
   "cell_type": "markdown",
   "metadata": {},
   "source": [
    "IA & Data science (3i026) -- 2018-2019\n",
    "--------\n",
    "*&copy; Equipe pédagogique: Manon Ansart, Vincent Guigue, Marie-Jeanne Lesot, Christophe Marsala, Olivier Schwander.*"
   ]
  },
  {
   "cell_type": "markdown",
   "metadata": {},
   "source": [
    "# TD-TME06: méthodes d'ensembles\n",
    "\n",
    "L'objectif de ce TP est d'implémenter des méthodes d'ensembles et de les évaluer. Dans un premier temps, on se focalisera sur l'algorithme de bagging appliqué aux arbres de décision, puis on passera au random forests.\n",
    "\n",
    "Comme précédemment, on ne considére que le cas où les attributs sont tous numériques."
   ]
  },
  {
   "cell_type": "markdown",
   "metadata": {},
   "source": [
    "<font size=\"+1\">**[Q]**</font> **Indiquer dans la boîte ci-dessous vos noms et prénoms :**"
   ]
  },
  {
   "cell_type": "markdown",
   "metadata": {},
   "source": [
    "Benchara Imane \n",
    "Thoirey Romane"
   ]
  },
  {
   "cell_type": "markdown",
   "metadata": {},
   "source": [
    "<font color=\"RED\" size=\"+1\">**[Q]**</font> **Renommer ce fichier ipython**\n",
    "\n",
    "Tout en haut de cette page, cliquer sur <tt>tme-06</tt> et rajouter à la suite de <tt>tme-06</tt> les noms des membres du binômes séparés par un tiret."
   ]
  },
  {
   "cell_type": "markdown",
   "metadata": {},
   "source": [
    "Charger la librairie <code>iads</code> pour avoir accès aux fonctions déjà écrites."
   ]
  },
  {
   "cell_type": "code",
   "execution_count": 1,
   "metadata": {},
   "outputs": [],
   "source": [
    "import numpy as np\n",
    "import pandas as pd\n",
    "import matplotlib.pyplot as plt\n",
    "import math\n",
    "%matplotlib inline  \n",
    "\n",
    "# La ligne suivante permet de préciser le chemin d'accès à la librairie iads\n",
    "import sys\n",
    "sys.path.append('../')\n",
    "\n",
    "# Importation de la librairie iads\n",
    "import iads as iads\n",
    "\n",
    "# importation de LabeledSet\n",
    "from iads import LabeledSet as ls\n",
    "\n",
    "# importation de Classifiers\n",
    "from iads import Classifiers as cl\n",
    "\n",
    "# importation de utils\n",
    "from iads import utils as ut"
   ]
  },
  {
   "cell_type": "markdown",
   "metadata": {},
   "source": [
    "Pour tester les fonctions à implémenter dans cette séance, on utilise la base d'exemples suivante :"
   ]
  },
  {
   "cell_type": "code",
   "execution_count": 2,
   "metadata": {},
   "outputs": [],
   "source": [
    "# Base d'exemples pour tester les fonctions:\n",
    "set_exemples = ls.LabeledSet(2)\n",
    "set_exemples.addExample([2.10492662303,1.10648470933],1)\n",
    "set_exemples.addExample([0.297525816499,-0.662504551625],1)\n",
    "set_exemples.addExample([1.6694258992,0.313687975072],1)\n",
    "set_exemples.addExample([1.20583098523,3.50817309097],1)\n",
    "set_exemples.addExample([1.13739407316,1.96688273992],1)\n",
    "set_exemples.addExample([2.32319808376,0.536577798714],1)\n",
    "set_exemples.addExample([-0.953004346997,0.596926923927],1)\n",
    "set_exemples.addExample([1.00574784804,-0.0959606771199],1)\n",
    "set_exemples.addExample([0.747509778063,0.429544908608],1)\n",
    "set_exemples.addExample([1.39048336283,0.442578873406],1)\n",
    "set_exemples.addExample([0.0470799329584,-1.97596265858],-1)\n",
    "set_exemples.addExample([-0.673998013071,0.0693931940855],-1)\n",
    "set_exemples.addExample([-0.84587451642,0.761766191612],-1)\n",
    "set_exemples.addExample([-1.39596839858,-0.943807082082],-1)\n",
    "set_exemples.addExample([0.319301767707,0.566169775123],-1)\n",
    "set_exemples.addExample([1.43459714786,0.935712030926],-1)\n",
    "set_exemples.addExample([-1.69323475458,-1.89563184035],-1)\n",
    "set_exemples.addExample([0.81167008598,-1.17927660655],-1)\n",
    "set_exemples.addExample([-1.03264043689,-1.08118488864],-1)\n",
    "set_exemples.addExample([0.609517439986,-2.88593327349],-1)"
   ]
  },
  {
   "cell_type": "markdown",
   "metadata": {},
   "source": [
    "## Etape 1: retours sur la séance 5\n"
   ]
  },
  {
   "cell_type": "markdown",
   "metadata": {},
   "source": [
    "<font color=\"RED\" size=\"+1\">**[Q]**</font> Modifier la fonction <code>shannon()</code> afin qu'elle puisse s'appliquer sur une liste vide ou sur une liste à un seul élément: dans ce cas-là, la fonction rend $0.0$."
   ]
  },
  {
   "cell_type": "code",
   "execution_count": 3,
   "metadata": {},
   "outputs": [],
   "source": [
    "def shannon(P):\n",
    "    if (P==[] or  len(P)==1):\n",
    "        return 0.0\n",
    "    else:\n",
    "        H=0\n",
    "        for i in range(0,len(P)):\n",
    "            if(P[i]!=0):\n",
    "                H-=P[i]*math.log(P[i], len(P))\n",
    "        return H"
   ]
  },
  {
   "cell_type": "code",
   "execution_count": 4,
   "metadata": {},
   "outputs": [
    {
     "name": "stdout",
     "output_type": "stream",
     "text": [
      "P=[]  :  0.0\n",
      "P=[1] :  0.0\n"
     ]
    }
   ],
   "source": [
    "# Exemples d'utilisation:\n",
    "print(\"P=[]  : \", shannon([]))\n",
    "print(\"P=[1] : \", shannon([1]))"
   ]
  },
  {
   "cell_type": "markdown",
   "metadata": {},
   "source": [
    "Recopier les fonctions suivantes à partir de votre notebook du TD-TME05.\n",
    "- classe_majoritaire(LSet)\n",
    "- entropie(LSet)\n",
    "- discretise(LSet, col)\n",
    "- divise(LSet,att,seuil)\n",
    "- construit_AD(LSet,epsilon)\n",
    "\n",
    "ainsi que les classes:\n",
    "- class ArbreBinaire\n",
    "- class ArbreDecision\n",
    "\n",
    "Remplissez la boite suivante en recopiant toutes ces fonctions et classes du TD_TME05."
   ]
  },
  {
   "cell_type": "code",
   "execution_count": 5,
   "metadata": {},
   "outputs": [],
   "source": [
    "def classe_majoritaire(ls):\n",
    "    pos = 0\n",
    "    neg = 0\n",
    "    for i in range(ls.size()):\n",
    "        if(ls.getY(i)==1):\n",
    "            pos +=1\n",
    "        elif(ls.getY(i)==-1):\n",
    "            neg +=1\n",
    "    if(neg > pos):\n",
    "        return -1\n",
    "    else:\n",
    "        return 1\n",
    "\n",
    "\n",
    "# ------------------------\n",
    "\n",
    "def entropie(ls):\n",
    "    pos = 0\n",
    "    neg = 0\n",
    "    for i in range(ls.size()):\n",
    "        if(ls.getY(i)==1):\n",
    "            pos +=1\n",
    "        elif(ls.getY(i)==-1):\n",
    "            neg +=1\n",
    "    if(pos == 0):\n",
    "        ppos = 0\n",
    "    else:\n",
    "        ppos = pos/ls.size()\n",
    "    if(neg == 0):\n",
    "        pneg = 0\n",
    "    else:\n",
    "        pneg = neg/ls.size()\n",
    "    return shannon([ppos,pneg])\n",
    "\n",
    "\n",
    "# ------------------------\n",
    "\n",
    "def discretise(LSet, col):\n",
    "    \"\"\" LabelledSet * int -> tuple[float, float]\n",
    "        Hypothèse: LSet.size() >= 2\n",
    "        col est le numéro de colonne sur X à discrétiser\n",
    "        rend la valeur de coupure qui minimise l'entropie ainsi que son entropie.\n",
    "    \"\"\"\n",
    "    # initialisation:\n",
    "    min_entropie = 1.1  # on met à une valeur max car on veut minimiser\n",
    "    min_seuil = 0.0     \n",
    "    # trie des valeurs:\n",
    "    ind= np.argsort(LSet.x,axis=0)\n",
    "    \n",
    "    # calcul des distributions des classes pour E1 et E2:\n",
    "    inf_plus  = 0               # nombre de +1 dans E1\n",
    "    inf_moins = 0               # nombre de -1 dans E1\n",
    "    sup_plus  = 0               # nombre de +1 dans E2\n",
    "    sup_moins = 0               # nombre de -1 dans E2       \n",
    "    # remarque: au départ on considère que E1 est vide et donc E2 correspond à E. \n",
    "    # Ainsi inf_plus et inf_moins valent 0. Il reste à calculer sup_plus et sup_moins \n",
    "    # dans E.\n",
    "    for j in range(0,LSet.size()):\n",
    "        if (LSet.getY(j) == -1):\n",
    "            sup_moins += 1\n",
    "        else:\n",
    "            sup_plus += 1\n",
    "    nb_total = (sup_plus + sup_moins) # nombre d'exemples total dans E\n",
    "    \n",
    "    # parcours pour trouver le meilleur seuil:\n",
    "    for i in range(len(LSet.x)-1):\n",
    "        v_ind_i = ind[i]   # vecteur d'indices\n",
    "        courant = LSet.getX(v_ind_i[col])[col]\n",
    "        lookahead = LSet.getX(ind[i+1][col])[col]\n",
    "        val_seuil = (courant + lookahead) / 2.0;\n",
    "        # M-A-J de la distrib. des classes:\n",
    "        # pour réduire les traitements: on retire un exemple de E2 et on le place\n",
    "        # dans E1, c'est ainsi que l'on déplace donc le seuil de coupure.\n",
    "        if LSet.getY(ind[i][col])[0] == -1:\n",
    "            inf_moins += 1\n",
    "            sup_moins -= 1\n",
    "        else:\n",
    "            inf_plus += 1\n",
    "            sup_plus -= 1\n",
    "        # calcul de la distribution des classes de chaque côté du seuil:\n",
    "        nb_inf = (inf_moins + inf_plus)*1.0     # rem: on en fait un float pour éviter\n",
    "        nb_sup = (sup_moins + sup_plus)*1.0     # que ce soit une division entière.\n",
    "        # calcul de l'entropie de la coupure\n",
    "        val_entropie_inf = shannon([inf_moins / nb_inf, inf_plus  / nb_inf])\n",
    "        val_entropie_sup = shannon([sup_moins / nb_sup, sup_plus  / nb_sup])\n",
    "        val_entropie = (nb_inf / nb_total) * val_entropie_inf \\\n",
    "                       + (nb_sup / nb_total) * val_entropie_sup\n",
    "        # si cette coupure minimise l'entropie, on mémorise ce seuil et son entropie:\n",
    "        if (min_entropie > val_entropie):\n",
    "            min_entropie = val_entropie\n",
    "            min_seuil = val_seuil\n",
    "    return (min_seuil, min_entropie)\n",
    "\n",
    "\n",
    "# ------------------------\n",
    "\n",
    "def divise(LSet,att,seuil):\n",
    "    \"\"\" LSet: LabeledSet\n",
    "        att : numéro d'attribut\n",
    "        seuil : valeur de seuil\n",
    "        rend le tuple contenant les 2 sous-LabeledSet obtenus par la\n",
    "        division de LSet selon le seuil sur l'attribut att\n",
    "    \"\"\"\n",
    "    Linf = ls.LabeledSet(LSet.getInputDimension())\n",
    "    Lsup = ls.LabeledSet(LSet.getInputDimension())\n",
    "    \n",
    "    for i in range(LSet.size()):\n",
    "        if(seuil > LSet.getX(i)[att]):\n",
    "            Linf.addExample(LSet.getX(i),LSet.getY(i))\n",
    "        else:\n",
    "            Lsup.addExample(LSet.getX(i),LSet.getY(i))\n",
    "    return (Linf,Lsup)  \n",
    "\n",
    "# ------------------------\n",
    "#nouveau construit_AD\n",
    "def construit_AD(LSet, epsilon):\n",
    "    a = ArbreBinaire()\n",
    "    e = entropie(LSet)\n",
    "    min_seuil = 1.1\n",
    "    min_entropie = 1.1\n",
    "    att = 0\n",
    "    if(e < epsilon):\n",
    "        a.ajoute_feuille(ut.classe_majoritaire(LSet))\n",
    "    else:\n",
    "        #pour chaque attribut\n",
    "        for i in range(LSet.getInputDimension()):\n",
    "            \n",
    "            #on calcule le seuil et l'entropie\n",
    "            minseuil_tmp, minentropie_tmp = discretise(LSet,i)\n",
    "            \n",
    "            if(minentropie_tmp < min_entropie):\n",
    "                min_seuil = minseuil_tmp\n",
    "                min_entropie = minentropie_tmp\n",
    "                att = i\n",
    "                \n",
    "            gain = e - min_entropie\n",
    "            if(gain < epsilon):\n",
    "                a.ajoute_feuille(classe_majoritaire(LSet))\n",
    "            else:    \n",
    "                Lsup, Linf = divise(LSet,att,min_seuil)        \n",
    "                ABinf = construit_AD(Linf,epsilon)\n",
    "                #test\n",
    "                ABsup = construit_AD(Lsup,epsilon)\n",
    "        \n",
    "                a.ajoute_fils(ABinf,ABsup,att,min_seuil)\n",
    "       \n",
    "    return a    "
   ]
  },
  {
   "cell_type": "code",
   "execution_count": 6,
   "metadata": {},
   "outputs": [],
   "source": [
    "import graphviz as gv\n",
    "# Eventuellement, il peut être nécessaire d'installer graphviz sur votre compte:\n",
    "# pip install --user --install-option=\"--prefix=\" -U graphviz\n",
    "\n",
    "\n",
    "class ArbreBinaire:\n",
    "    def __init__(self):\n",
    "        self.attribut = None   # numéro de l'attribut\n",
    "        self.seuil = None\n",
    "        self.inferieur = None # ArbreBinaire Gauche (valeurs <= au seuil)\n",
    "        self.superieur = None # ArbreBinaire Gauche (valeurs > au seuil)\n",
    "        self.classe = None # Classe si c'est une feuille: -1 ou +1\n",
    "        \n",
    "    def est_feuille(self):\n",
    "        \"\"\" rend True si l'arbre est une feuille \"\"\"\n",
    "        return self.seuil == None\n",
    "    \n",
    "    def ajoute_fils(self,ABinf,ABsup,att,seuil):\n",
    "        \"\"\" ABinf, ABsup: 2 arbres binaires\n",
    "            att: numéro d'attribut\n",
    "            seuil: valeur de seuil\n",
    "        \"\"\"\n",
    "        self.attribut = att\n",
    "        self.seuil = seuil\n",
    "        self.inferieur = ABinf\n",
    "        self.superieur = ABsup\n",
    "    \n",
    "    def ajoute_feuille(self,classe):\n",
    "        \"\"\" classe: -1 ou + 1\n",
    "        \"\"\"\n",
    "        self.classe = classe\n",
    "        \n",
    "    def classifie(self,exemple):\n",
    "        \"\"\" exemple : numpy.array\n",
    "            rend la classe de l'exemple: +1 ou -1\n",
    "        \"\"\"\n",
    "        if self.est_feuille():\n",
    "            return self.classe\n",
    "        if exemple[self.attribut] <= self.seuil:\n",
    "            return self.inferieur.classifie(exemple)\n",
    "        return self.superieur.classifie(exemple)\n",
    "    \n",
    "    def to_graph(self, g, prefixe='A'):\n",
    "        \"\"\" construit une représentation de l'arbre pour pouvoir\n",
    "            l'afficher\n",
    "        \"\"\"\n",
    "        if self.est_feuille():\n",
    "            g.node(prefixe,str(self.classe),shape='box')\n",
    "        else:\n",
    "            g.node(prefixe, str(self.attribut))\n",
    "            self.inferieur.to_graph(g,prefixe+\"g\")\n",
    "            self.superieur.to_graph(g,prefixe+\"d\")\n",
    "            g.edge(prefixe,prefixe+\"g\", '<='+ str(self.seuil))\n",
    "            g.edge(prefixe,prefixe+\"d\", '>'+ str(self.seuil))\n",
    "        \n",
    "        return g\n",
    "    \n",
    "class ArbreDecision(cl.Classifier):\n",
    "    # Constructeur\n",
    "    def __init__(self,epsilon):\n",
    "        # valeur seuil d'entropie pour arrêter la construction\n",
    "        self.epsilon= epsilon\n",
    "        self.racine = None\n",
    "    \n",
    "    # Permet de calculer la prediction sur x => renvoie un score\n",
    "    def predict(self,x):\n",
    "        # classification de l'exemple x avec l'arbre de décision\n",
    "        # on rend 0 (classe -1) ou 1 (classe 1)\n",
    "        classe = self.racine.classifie(x)\n",
    "        if (classe == 1):\n",
    "            return(1)\n",
    "        else:\n",
    "            return(-1)\n",
    "    \n",
    "    # Permet d'entrainer le modele sur un ensemble de données\n",
    "    def train(self,set):\n",
    "        # construction de l'arbre de décision \n",
    "        self.set=set\n",
    "        self.racine = construit_AD(set,self.epsilon)\n",
    "\n",
    "    # Permet d'afficher l'arbre\n",
    "    def plot(self):\n",
    "        gtree = gv.Digraph(format='png')\n",
    "        return self.racine.to_graph(gtree)\n",
    "        "
   ]
  },
  {
   "cell_type": "markdown",
   "metadata": {},
   "source": [
    "<font color=\"RED\" size=\"+1\">**[Q]**</font> Modifier la fonction <code>construit_ad</code> afin d'utiliser le gain d'information comme critère d'arrêt. \n",
    "\n",
    "L'algorithme est modifié ainsi:\n",
    "\n",
    "Pour construire un arbre de décision, il faut réaliser les étapes suivantes:\n",
    "- si l'entropie de Shannon de l'ensemble courant est inférieure à epsilon (réel positif fixé et qui est un paramètre de l'algorithme), alors construire une feuille avec cet ensemble, la classe associée à cette feuille est la classe majoritaire;\n",
    "- sinon, pour chaque attribut, calculer le seuil de discrétisation et l'entropie de Shannon correspondante\n",
    "    - choisir l'attribut qui donne une valeur d'entropie minimale\n",
    "    - regarder le gain d'information apporté par le test sur les valeurs de cet attribut\n",
    "        - si ce gain est inférieur à epsilon alors construire une feuille avec l'ensemble\n",
    "        - sinon l'attribut choisi sert à constituer un noeud de l'arbre de décision, les arcs issus de ce noeud sont labeller par un test (inférieur ou égal ou supérieur) par rapport au seuil trouvé\n",
    "    \n",
    "On rappelle (cf. cours) que le gain d'information vaut:\n",
    "\n",
    "$$I-s(A_j,Y) = D(Y) - Q_Y(A_j)$$\n",
    "\n",
    "avec $D(Y)$, l'entropie de Shannon de l'ensemble courant, et $Q_Y(A_j)$ l'entropie de de la classe pour la coupure par le seuil trouvé sur l'attribut $A_j$).\n",
    "\n"
   ]
  },
  {
   "cell_type": "code",
   "execution_count": 25,
   "metadata": {},
   "outputs": [],
   "source": [
    "def construit_AD(LSet, epsilon):\n",
    "    a = ArbreBinaire()\n",
    "    e = entropie(LSet)\n",
    "    min_seuil = 1.1\n",
    "    min_entropie = 1.1\n",
    "    att = 0\n",
    "    if(e <= epsilon):\n",
    "        a.ajoute_feuille(ut.classe_majoritaire(LSet))\n",
    "    else:\n",
    "        #pour chaque attribut\n",
    "        for i in range(LSet.getInputDimension()):\n",
    "            \n",
    "            #on calcule le seuil et l'entropie\n",
    "            minseuil_tmp, minentropie_tmp = discretise(LSet,i)\n",
    "            \n",
    "            if(minentropie_tmp < min_entropie):\n",
    "                min_seuil = minseuil_tmp\n",
    "                min_entropie = minentropie_tmp\n",
    "                att = i\n",
    "                \n",
    "        gain = e - min_entropie\n",
    "        if(gain < epsilon):\n",
    "            a.ajoute_feuille(classe_majoritaire(LSet))\n",
    "        else:    \n",
    "            Linf, Lsup = divise(LSet,att,min_seuil)        \n",
    "            ABinf = construit_AD(Linf,epsilon)\n",
    "            ABsup = construit_AD(Lsup,epsilon)\n",
    "\n",
    "            a.ajoute_fils(ABinf,ABsup,att,min_seuil)\n",
    "\n",
    "    return a    "
   ]
  },
  {
   "cell_type": "code",
   "execution_count": 26,
   "metadata": {},
   "outputs": [
    {
     "data": {
      "image/svg+xml": [
       "<?xml version=\"1.0\" encoding=\"UTF-8\" standalone=\"no\"?>\n",
       "<!DOCTYPE svg PUBLIC \"-//W3C//DTD SVG 1.1//EN\"\n",
       " \"http://www.w3.org/Graphics/SVG/1.1/DTD/svg11.dtd\">\n",
       "<!-- Generated by graphviz version 2.38.0 (20140413.2041)\n",
       " -->\n",
       "<!-- Title: %3 Pages: 1 -->\n",
       "<svg width=\"656pt\" height=\"392pt\"\n",
       " viewBox=\"0.00 0.00 656.00 392.00\" xmlns=\"http://www.w3.org/2000/svg\" xmlns:xlink=\"http://www.w3.org/1999/xlink\">\n",
       "<g id=\"graph0\" class=\"graph\" transform=\"scale(1 1) rotate(0) translate(4 388)\">\n",
       "<title>%3</title>\n",
       "<polygon fill=\"white\" stroke=\"none\" points=\"-4,4 -4,-388 652,-388 652,4 -4,4\"/>\n",
       "<!-- A -->\n",
       "<g id=\"node1\" class=\"node\"><title>A</title>\n",
       "<ellipse fill=\"none\" stroke=\"black\" cx=\"198\" cy=\"-366\" rx=\"27\" ry=\"18\"/>\n",
       "<text text-anchor=\"middle\" x=\"198\" y=\"-362.3\" font-family=\"Times,serif\" font-size=\"14.00\">1</text>\n",
       "</g>\n",
       "<!-- Ag -->\n",
       "<g id=\"node2\" class=\"node\"><title>Ag</title>\n",
       "<polygon fill=\"none\" stroke=\"black\" points=\"154,-297 100,-297 100,-261 154,-261 154,-297\"/>\n",
       "<text text-anchor=\"middle\" x=\"127\" y=\"-275.3\" font-family=\"Times,serif\" font-size=\"14.00\">&#45;1</text>\n",
       "</g>\n",
       "<!-- A&#45;&gt;Ag -->\n",
       "<g id=\"edge11\" class=\"edge\"><title>A&#45;&gt;Ag</title>\n",
       "<path fill=\"none\" stroke=\"black\" d=\"M172.784,-359.435C157.01,-354.523 137.871,-345.621 128,-330 123.743,-323.264 122.41,-314.931 122.451,-307.012\"/>\n",
       "<polygon fill=\"black\" stroke=\"black\" points=\"125.944,-307.234 123.167,-297.009 118.962,-306.734 125.944,-307.234\"/>\n",
       "<text text-anchor=\"middle\" x=\"188\" y=\"-318.8\" font-family=\"Times,serif\" font-size=\"14.00\">&lt;=&#45;0.8031558168535</text>\n",
       "</g>\n",
       "<!-- Ad -->\n",
       "<g id=\"node3\" class=\"node\"><title>Ad</title>\n",
       "<ellipse fill=\"none\" stroke=\"black\" cx=\"270\" cy=\"-279\" rx=\"27\" ry=\"18\"/>\n",
       "<text text-anchor=\"middle\" x=\"270\" y=\"-275.3\" font-family=\"Times,serif\" font-size=\"14.00\">0</text>\n",
       "</g>\n",
       "<!-- A&#45;&gt;Ad -->\n",
       "<g id=\"edge12\" class=\"edge\"><title>A&#45;&gt;Ad</title>\n",
       "<path fill=\"none\" stroke=\"black\" d=\"M218.51,-354.183C228.442,-348.133 239.933,-339.828 248,-330 253.646,-323.121 258.11,-314.566 261.498,-306.489\"/>\n",
       "<polygon fill=\"black\" stroke=\"black\" points=\"264.817,-307.609 265.106,-297.018 258.275,-305.117 264.817,-307.609\"/>\n",
       "<text text-anchor=\"middle\" x=\"313\" y=\"-318.8\" font-family=\"Times,serif\" font-size=\"14.00\">&gt;&#45;0.8031558168535</text>\n",
       "</g>\n",
       "<!-- Adg -->\n",
       "<g id=\"node4\" class=\"node\"><title>Adg</title>\n",
       "<ellipse fill=\"none\" stroke=\"black\" cx=\"190\" cy=\"-192\" rx=\"27\" ry=\"18\"/>\n",
       "<text text-anchor=\"middle\" x=\"190\" y=\"-188.3\" font-family=\"Times,serif\" font-size=\"14.00\">0</text>\n",
       "</g>\n",
       "<!-- Ad&#45;&gt;Adg -->\n",
       "<g id=\"edge9\" class=\"edge\"><title>Ad&#45;&gt;Adg</title>\n",
       "<path fill=\"none\" stroke=\"black\" d=\"M245.433,-271.425C230.409,-266.153 212.021,-257.231 201,-243 196.005,-236.55 193.178,-228.298 191.606,-220.366\"/>\n",
       "<polygon fill=\"black\" stroke=\"black\" points=\"195.049,-219.713 190.186,-210.3 188.117,-220.69 195.049,-219.713\"/>\n",
       "<text text-anchor=\"middle\" x=\"255.5\" y=\"-231.8\" font-family=\"Times,serif\" font-size=\"14.00\">&lt;=0.533405772885</text>\n",
       "</g>\n",
       "<!-- Add -->\n",
       "<g id=\"node9\" class=\"node\"><title>Add</title>\n",
       "<ellipse fill=\"none\" stroke=\"black\" cx=\"345\" cy=\"-192\" rx=\"27\" ry=\"18\"/>\n",
       "<text text-anchor=\"middle\" x=\"345\" y=\"-188.3\" font-family=\"Times,serif\" font-size=\"14.00\">0</text>\n",
       "</g>\n",
       "<!-- Ad&#45;&gt;Add -->\n",
       "<g id=\"edge10\" class=\"edge\"><title>Ad&#45;&gt;Add</title>\n",
       "<path fill=\"none\" stroke=\"black\" d=\"M288.333,-265.637C296.736,-259.44 306.475,-251.461 314,-243 320.679,-235.49 326.804,-226.365 331.814,-217.977\"/>\n",
       "<polygon fill=\"black\" stroke=\"black\" points=\"334.864,-219.695 336.786,-209.276 328.786,-216.222 334.864,-219.695\"/>\n",
       "<text text-anchor=\"middle\" x=\"375\" y=\"-231.8\" font-family=\"Times,serif\" font-size=\"14.00\">&gt;0.533405772885</text>\n",
       "</g>\n",
       "<!-- Adgg -->\n",
       "<g id=\"node5\" class=\"node\"><title>Adgg</title>\n",
       "<polygon fill=\"none\" stroke=\"black\" points=\"54,-123 0,-123 0,-87 54,-87 54,-123\"/>\n",
       "<text text-anchor=\"middle\" x=\"27\" y=\"-101.3\" font-family=\"Times,serif\" font-size=\"14.00\">1</text>\n",
       "</g>\n",
       "<!-- Adg&#45;&gt;Adgg -->\n",
       "<g id=\"edge3\" class=\"edge\"><title>Adg&#45;&gt;Adgg</title>\n",
       "<path fill=\"none\" stroke=\"black\" d=\"M162.988,-191.595C131.224,-190.843 78.6977,-184.854 46,-156 39.1939,-149.994 34.8153,-141.285 32.0026,-132.812\"/>\n",
       "<polygon fill=\"black\" stroke=\"black\" points=\"35.3758,-131.878 29.3685,-123.151 28.6224,-133.72 35.3758,-131.878\"/>\n",
       "<text text-anchor=\"middle\" x=\"116\" y=\"-144.8\" font-family=\"Times,serif\" font-size=\"14.00\">&lt;=&#45;0.8994394317084999</text>\n",
       "</g>\n",
       "<!-- Adgd -->\n",
       "<g id=\"node6\" class=\"node\"><title>Adgd</title>\n",
       "<ellipse fill=\"none\" stroke=\"black\" cx=\"190\" cy=\"-105\" rx=\"27\" ry=\"18\"/>\n",
       "<text text-anchor=\"middle\" x=\"190\" y=\"-101.3\" font-family=\"Times,serif\" font-size=\"14.00\">1</text>\n",
       "</g>\n",
       "<!-- Adg&#45;&gt;Adgd -->\n",
       "<g id=\"edge4\" class=\"edge\"><title>Adg&#45;&gt;Adgd</title>\n",
       "<path fill=\"none\" stroke=\"black\" d=\"M190,-173.799C190,-162.163 190,-146.548 190,-133.237\"/>\n",
       "<polygon fill=\"black\" stroke=\"black\" points=\"193.5,-133.175 190,-123.175 186.5,-133.175 193.5,-133.175\"/>\n",
       "<text text-anchor=\"middle\" x=\"256\" y=\"-144.8\" font-family=\"Times,serif\" font-size=\"14.00\">&gt;&#45;0.8994394317084999</text>\n",
       "</g>\n",
       "<!-- Adgdg -->\n",
       "<g id=\"node7\" class=\"node\"><title>Adgdg</title>\n",
       "<polygon fill=\"none\" stroke=\"black\" points=\"104,-36 50,-36 50,-0 104,-0 104,-36\"/>\n",
       "<text text-anchor=\"middle\" x=\"77\" y=\"-14.3\" font-family=\"Times,serif\" font-size=\"14.00\">1</text>\n",
       "</g>\n",
       "<!-- Adgd&#45;&gt;Adgdg -->\n",
       "<g id=\"edge1\" class=\"edge\"><title>Adgd&#45;&gt;Adgdg</title>\n",
       "<path fill=\"none\" stroke=\"black\" d=\"M162.99,-104.206C136.042,-102.781 95.8727,-95.8895 76,-69 71.2638,-62.5915 70.0522,-54.3513 70.4467,-46.4166\"/>\n",
       "<polygon fill=\"black\" stroke=\"black\" points=\"73.9383,-46.7032 71.729,-36.3413 66.9944,-45.8193 73.9383,-46.7032\"/>\n",
       "<text text-anchor=\"middle\" x=\"139.5\" y=\"-57.8\" font-family=\"Times,serif\" font-size=\"14.00\">&lt;=&#45;0.29655567876975</text>\n",
       "</g>\n",
       "<!-- Adgdd -->\n",
       "<g id=\"node8\" class=\"node\"><title>Adgdd</title>\n",
       "<polygon fill=\"none\" stroke=\"black\" points=\"254,-36 200,-36 200,-0 254,-0 254,-36\"/>\n",
       "<text text-anchor=\"middle\" x=\"227\" y=\"-14.3\" font-family=\"Times,serif\" font-size=\"14.00\">&#45;1</text>\n",
       "</g>\n",
       "<!-- Adgd&#45;&gt;Adgdd -->\n",
       "<g id=\"edge2\" class=\"edge\"><title>Adgd&#45;&gt;Adgdd</title>\n",
       "<path fill=\"none\" stroke=\"black\" d=\"M197.134,-87.6111C202.305,-75.7323 209.41,-59.41 215.393,-45.6658\"/>\n",
       "<polygon fill=\"black\" stroke=\"black\" points=\"218.725,-46.7797 219.507,-36.2138 212.307,-43.9859 218.725,-46.7797\"/>\n",
       "<text text-anchor=\"middle\" x=\"270\" y=\"-57.8\" font-family=\"Times,serif\" font-size=\"14.00\">&gt;&#45;0.29655567876975</text>\n",
       "</g>\n",
       "<!-- Addg -->\n",
       "<g id=\"node10\" class=\"node\"><title>Addg</title>\n",
       "<polygon fill=\"none\" stroke=\"black\" points=\"372,-123 318,-123 318,-87 372,-87 372,-123\"/>\n",
       "<text text-anchor=\"middle\" x=\"345\" y=\"-101.3\" font-family=\"Times,serif\" font-size=\"14.00\">1</text>\n",
       "</g>\n",
       "<!-- Add&#45;&gt;Addg -->\n",
       "<g id=\"edge7\" class=\"edge\"><title>Add&#45;&gt;Addg</title>\n",
       "<path fill=\"none\" stroke=\"black\" d=\"M345,-173.799C345,-162.163 345,-146.548 345,-133.237\"/>\n",
       "<polygon fill=\"black\" stroke=\"black\" points=\"348.5,-133.175 345,-123.175 341.5,-133.175 348.5,-133.175\"/>\n",
       "<text text-anchor=\"middle\" x=\"399.5\" y=\"-144.8\" font-family=\"Times,serif\" font-size=\"14.00\">&lt;=1.412540255345</text>\n",
       "</g>\n",
       "<!-- Addd -->\n",
       "<g id=\"node11\" class=\"node\"><title>Addd</title>\n",
       "<ellipse fill=\"none\" stroke=\"black\" cx=\"477\" cy=\"-105\" rx=\"27\" ry=\"18\"/>\n",
       "<text text-anchor=\"middle\" x=\"477\" y=\"-101.3\" font-family=\"Times,serif\" font-size=\"14.00\">0</text>\n",
       "</g>\n",
       "<!-- Add&#45;&gt;Addd -->\n",
       "<g id=\"edge8\" class=\"edge\"><title>Add&#45;&gt;Addd</title>\n",
       "<path fill=\"none\" stroke=\"black\" d=\"M371.597,-188.717C395.988,-185.324 431.749,-176.899 455,-156 461.895,-149.803 466.731,-141.048 470.077,-132.593\"/>\n",
       "<polygon fill=\"black\" stroke=\"black\" points=\"473.442,-133.57 473.353,-122.976 466.815,-131.313 473.442,-133.57\"/>\n",
       "<text text-anchor=\"middle\" x=\"515\" y=\"-144.8\" font-family=\"Times,serif\" font-size=\"14.00\">&gt;1.412540255345</text>\n",
       "</g>\n",
       "<!-- Adddg -->\n",
       "<g id=\"node12\" class=\"node\"><title>Adddg</title>\n",
       "<polygon fill=\"none\" stroke=\"black\" points=\"468,-36 414,-36 414,-0 468,-0 468,-36\"/>\n",
       "<text text-anchor=\"middle\" x=\"441\" y=\"-14.3\" font-family=\"Times,serif\" font-size=\"14.00\">&#45;1</text>\n",
       "</g>\n",
       "<!-- Addd&#45;&gt;Adddg -->\n",
       "<g id=\"edge5\" class=\"edge\"><title>Addd&#45;&gt;Adddg</title>\n",
       "<path fill=\"none\" stroke=\"black\" d=\"M459.448,-91.3187C452.688,-85.3815 445.705,-77.6965 442,-69 439.04,-62.0506 437.976,-54.05 437.862,-46.5152\"/>\n",
       "<polygon fill=\"black\" stroke=\"black\" points=\"441.366,-46.4528 438.233,-36.3317 434.371,-46.1974 441.366,-46.4528\"/>\n",
       "<text text-anchor=\"middle\" x=\"493\" y=\"-57.8\" font-family=\"Times,serif\" font-size=\"14.00\">&lt;=1.55201152353</text>\n",
       "</g>\n",
       "<!-- Adddd -->\n",
       "<g id=\"node13\" class=\"node\"><title>Adddd</title>\n",
       "<polygon fill=\"none\" stroke=\"black\" points=\"593,-36 539,-36 539,-0 593,-0 593,-36\"/>\n",
       "<text text-anchor=\"middle\" x=\"566\" y=\"-14.3\" font-family=\"Times,serif\" font-size=\"14.00\">1</text>\n",
       "</g>\n",
       "<!-- Addd&#45;&gt;Adddd -->\n",
       "<g id=\"edge6\" class=\"edge\"><title>Addd&#45;&gt;Adddd</title>\n",
       "<path fill=\"none\" stroke=\"black\" d=\"M500.602,-96.2252C514.724,-90.562 532.167,-81.6519 544,-69 550.079,-62.4999 554.658,-54.0465 558.019,-45.9453\"/>\n",
       "<polygon fill=\"black\" stroke=\"black\" points=\"561.365,-46.9867 561.534,-36.3932 554.796,-44.5691 561.365,-46.9867\"/>\n",
       "<text text-anchor=\"middle\" x=\"601\" y=\"-57.8\" font-family=\"Times,serif\" font-size=\"14.00\">&gt;1.55201152353</text>\n",
       "</g>\n",
       "</g>\n",
       "</svg>\n"
      ],
      "text/plain": [
       "<graphviz.dot.Digraph at 0x7fc63336e978>"
      ]
     },
     "execution_count": 26,
     "metadata": {},
     "output_type": "execute_result"
    },
    {
     "data": {
      "image/png": "[encoded data removed]",
      "text/plain": [
       "<Figure size 432x288 with 1 Axes>"
      ]
     },
     "metadata": {},
     "output_type": "display_data"
    }
   ],
   "source": [
    "# un exemple d'utilisation:\n",
    "ad=ArbreDecision(0.001)          # initialiation d'un arbre binaire qui utilisera epsilon= 0.0\n",
    "ad.train(set_exemples)              # construction de l'arbre à partir de la base jouet\n",
    "ut.plot_frontiere(set_exemples,ad,20)  # tracé graphique de la frontière de décision\n",
    "ut.plot2DSet(set_exemples)\n",
    "ad.plot()"
   ]
  },
  {
   "cell_type": "markdown",
   "metadata": {},
   "source": [
    "## Etape 2: Bagging d'arbres de décision\n",
    "\n",
    "### Tirage aléatoire d'exemples\n",
    "\n",
    "Le bootstrap s'effectue en tirant aléatoirement un échantillon de $m$ exemples à partir de la base d'apprentissage $X$. Cet échantillon sert ensuite à construire un classifieur.\n",
    "\n",
    "Dans l'algorithme du bagging, ce processus est répété $B$ fois.\n",
    "\n",
    "Afin de ne pas alourdir la place mémoire nécessaire pour réaliser un tel tirage, on ne travaille que sur les indices des exemples dans la base. Un **échantillon de $X$ est donc un vecteur d'entiers** qui représentent les indices des exemples choisis.\n"
   ]
  },
  {
   "cell_type": "markdown",
   "metadata": {},
   "source": [
    "#### Tirages aléatoires en Python\n",
    "\n",
    "Consulter la librairie Python random qui propose différentes fonctions utiles pour implémenter le tirage aléatoire du bootstrap.\n",
    "\n",
    "Par exemple, la fonction <code>sample()</code> de la librairie <code>random</code> rend une sélection aléatoire dans une population donnée en réalisant un tirage sans remise.\n",
    "\n",
    "Pour tester, exécuter plusieurs fois les instructions de la boîte suivante :"
   ]
  },
  {
   "cell_type": "code",
   "execution_count": 9,
   "metadata": {},
   "outputs": [
    {
     "name": "stdout",
     "output_type": "stream",
     "text": [
      "La liste L de départ:  [0, 1, 2, 3, 4, 5, 6, 7, 8, 9, 10]\n",
      "Echantillon:  [3, 6, 0, 4, 2, 9]\n"
     ]
    }
   ],
   "source": [
    "import random\n",
    "L= [i for i in range(0,11)]             # construction de la liste des entiers de 0 à 10\n",
    "print(\"La liste L de départ: \",L)\n",
    "EchL = random.sample(L,6)               # tirage de 6 éléments de L\n",
    "print(\"Echantillon: \",EchL)"
   ]
  },
  {
   "cell_type": "markdown",
   "metadata": {},
   "source": [
    "La fonction <code>choice()</code> permet de choisir aléatoirement un élément:"
   ]
  },
  {
   "cell_type": "code",
   "execution_count": 10,
   "metadata": {},
   "outputs": [
    {
     "name": "stdout",
     "output_type": "stream",
     "text": [
      "La liste L de départ:  [0, 1, 2, 3, 4, 5, 6, 7, 8, 9, 10]\n",
      "Element choisi:  7\n"
     ]
    }
   ],
   "source": [
    "L= [i for i in range(0,11)]             # construction de la liste des entiers de 0 à 10\n",
    "print(\"La liste L de départ: \",L)\n",
    "elt = random.choice(L)                  # choix d'un élémént\n",
    "print(\"Element choisi: \",elt)"
   ]
  },
  {
   "cell_type": "markdown",
   "metadata": {},
   "source": [
    "<font color=\"RED\" size=\"+1\">**[Q]**</font> Ecrire une fonction <code>tirage()</code> qui étant donné un vecteur d'entiers $VX$ qui représente l'ensemble des indices des exemples d'une base d'apprentissage $X$, un entier $m$, et un booléen $r$, rend un vecteur de $m$ indices choisis aléatoirement dans $VX$. Si le booléen $r$ est vrai, le tirage s'effectue *avec remise*, sinon il s'effectue *sans remise*."
   ]
  },
  {
   "cell_type": "code",
   "execution_count": 11,
   "metadata": {},
   "outputs": [],
   "source": [
    "def tirage(X,m,r):\n",
    "    res = []\n",
    "    for i in range(m):\n",
    "        if(r==True):\n",
    "            res.append(random.choice(X))\n",
    "        else:\n",
    "            res = random.sample(X,m)\n",
    "    return res        "
   ]
  },
  {
   "cell_type": "markdown",
   "metadata": {},
   "source": [
    "Exemples :"
   ]
  },
  {
   "cell_type": "code",
   "execution_count": 12,
   "metadata": {},
   "outputs": [
    {
     "data": {
      "text/plain": [
       "[8, 7, 1, 1, 3, 1, 5, 9]"
      ]
     },
     "execution_count": 12,
     "metadata": {},
     "output_type": "execute_result"
    }
   ],
   "source": [
    "L= [i for i in range(0,10)]    # construction de la liste des entiers de 0 à 100\n",
    "tirage(L,8,True)               # tirage avec remise"
   ]
  },
  {
   "cell_type": "code",
   "execution_count": 13,
   "metadata": {},
   "outputs": [
    {
     "data": {
      "text/plain": [
       "[1, 2, 9, 3, 8, 5, 7, 6]"
      ]
     },
     "execution_count": 13,
     "metadata": {},
     "output_type": "execute_result"
    }
   ],
   "source": [
    "tirage(L,8,False)               # tirage sans remise"
   ]
  },
  {
   "cell_type": "markdown",
   "metadata": {
    "collapsed": true
   },
   "source": [
    "<font color=\"RED\" size=\"+1\">**[Q]**</font> En utilisant la fonction précédente, écrire la fonction <code>echantillonLS()</code> qui, étant donné un <code>LabeledSet</code> $X$, un nombre entier $m$, et un booléen rend un échantillon de $X$ de taille $m$ sous la forme d'un <code>LabeledSet</code>. L'échantillon est obtenu par un tirage avec remise si le booléen est True, sinon, il est obtenu sans remise."
   ]
  },
  {
   "cell_type": "code",
   "execution_count": 14,
   "metadata": {},
   "outputs": [],
   "source": [
    "def echantillonLS(X,m,r):\n",
    "    echantillon = ls.LabeledSet(X.getInputDimension())\n",
    "    l = [i for i in range(X.size())]\n",
    "    t = tirage(l,m,r)    \n",
    "    for i in range(len(t)):\n",
    "        echantillon.addExample(X.getX(i),X.getY(i))\n",
    "    return echantillon\n"
   ]
  },
  {
   "cell_type": "markdown",
   "metadata": {},
   "source": [
    "<font color=\"RED\" size=\"+1\">**[Q]**</font> Ecrire la classe <code>ClassifierBaggingTree</code>, dérivée de la classe <code>Classifier</code>, qui permet d'implémenter un bagging d'arbres de décision. Les spécifications de cette classe sont :\n",
    "- la création de l'ensemble nécessite les paramètres suivants : \n",
    "    - le nombre $B$ d'arbres à construire, \n",
    "    - le pourcentage d'exemples de la base d'apprentissage utilisés pour constituer un échantillon, \n",
    "    - un booléen qui précise si un échantillon est tiré avec ou sans remise\n",
    "    - et la valeur de seuil d'entropie pour arrêter la construction de chaque arbre, \n",
    "- l'apprentissage (méthode <code>train()</code>) construit autant d'arbres que précisé à la création. Chaque arbre est construit à partir d'un échantillon de la base d'apprentissage (<code>LabeledSet</code>) donnée en argument. Les arbres construits sont stockés dans un ensemble Python.\n",
    "- la prédiction (méthode <code>predict()</code>) classe un exemple par vote de tous les arbres de la forêt. Si la somme des votes est positive ou nulle, la classe rendue est +1, sinon, la classe rendue est -1."
   ]
  },
  {
   "cell_type": "code",
   "execution_count": 15,
   "metadata": {},
   "outputs": [],
   "source": [
    "class ClassifierBaggingTree(cl.Classifier):\n",
    "    def __init__(self, nb_arbre, learn, epsilon, r):\n",
    "        self.nb_arbre = nb_arbre\n",
    "        self.learn = learn\n",
    "        self.epsilon = epsilon\n",
    "        self.r = r\n",
    "        self.ens = set()\n",
    "     \n",
    "    def predict(self,x):\n",
    "        \n",
    "        labelpos = 0\n",
    "        labelneg = 0\n",
    "        for i in self.ens:\n",
    "            if(i.classifie(x) == 1):\n",
    "                labelpos += 1\n",
    "            else:\n",
    "                labelneg += 1\n",
    "        if(labelpos > labelneg):\n",
    "            return 1\n",
    "        elif(labelneg > labelpos):\n",
    "            return -1\n",
    "    \n",
    "    def train(self, LSet):\n",
    "        \n",
    "        for i in range(self.nb_arbre):\n",
    "            taille_echantillon = int (LSet.size()* self.learn)\n",
    "            LSet_echantillon = echantillonLS(LSet, taille_echantillon,False)\n",
    "            self.ens.add(construit_AD(LSet, self.epsilon))\n",
    "        return self.ens\n",
    "    \n",
    "    def accuracy(self, dataset):\n",
    "        \"\"\" Permet de calculer la qualité du système \n",
    "        \"\"\"\n",
    "        res = 0\n",
    "        for i in range(dataset.size()):\n",
    "            if(self.predict(dataset.getX(i))==dataset.getY(i)):\n",
    "                res+=1\n",
    "        return res/dataset.size()\n",
    "    "
   ]
  },
  {
   "cell_type": "code",
   "execution_count": 27,
   "metadata": {},
   "outputs": [
    {
     "name": "stdout",
     "output_type": "stream",
     "text": [
      "exemple: 0  vraie classe =  [1] - classe trouvee =  1\n",
      "exemple: 1  vraie classe =  [-1] - classe trouvee =  -1\n",
      "exemple: 2  vraie classe =  [1] - classe trouvee =  1\n",
      "exemple: 3  vraie classe =  [-1] - classe trouvee =  -1\n",
      "exemple: 4  vraie classe =  [1] - classe trouvee =  1\n",
      "exemple: 5  vraie classe =  [-1] - classe trouvee =  -1\n",
      "exemple: 6  vraie classe =  [1] - classe trouvee =  1\n",
      "exemple: 7  vraie classe =  [-1] - classe trouvee =  -1\n",
      "exemple: 8  vraie classe =  [1] - classe trouvee =  1\n",
      "exemple: 9  vraie classe =  [-1] - classe trouvee =  -1\n",
      "exemple: 10  vraie classe =  [1] - classe trouvee =  1\n",
      "exemple: 11  vraie classe =  [-1] - classe trouvee =  -1\n",
      "exemple: 12  vraie classe =  [1] - classe trouvee =  1\n",
      "exemple: 13  vraie classe =  [-1] - classe trouvee =  -1\n",
      "exemple: 14  vraie classe =  [1] - classe trouvee =  1\n",
      "exemple: 15  vraie classe =  [-1] - classe trouvee =  -1\n",
      "exemple: 16  vraie classe =  [1] - classe trouvee =  1\n",
      "exemple: 17  vraie classe =  [-1] - classe trouvee =  -1\n",
      "exemple: 18  vraie classe =  [1] - classe trouvee =  1\n",
      "exemple: 19  vraie classe =  [-1] - classe trouvee =  -1\n",
      "exemple: 20  vraie classe =  [1] - classe trouvee =  1\n",
      "exemple: 21  vraie classe =  [-1] - classe trouvee =  -1\n",
      "exemple: 22  vraie classe =  [1] - classe trouvee =  1\n",
      "exemple: 23  vraie classe =  [-1] - classe trouvee =  -1\n",
      "exemple: 24  vraie classe =  [1] - classe trouvee =  1\n",
      "exemple: 25  vraie classe =  [-1] - classe trouvee =  -1\n",
      "exemple: 26  vraie classe =  [1] - classe trouvee =  1\n",
      "exemple: 27  vraie classe =  [-1] - classe trouvee =  -1\n",
      "exemple: 28  vraie classe =  [1] - classe trouvee =  1\n",
      "exemple: 29  vraie classe =  [-1] - classe trouvee =  -1\n",
      "exemple: 30  vraie classe =  [1] - classe trouvee =  1\n",
      "exemple: 31  vraie classe =  [-1] - classe trouvee =  -1\n",
      "exemple: 32  vraie classe =  [1] - classe trouvee =  1\n",
      "exemple: 33  vraie classe =  [-1] - classe trouvee =  -1\n",
      "exemple: 34  vraie classe =  [1] - classe trouvee =  1\n",
      "exemple: 35  vraie classe =  [-1] - classe trouvee =  -1\n",
      "exemple: 36  vraie classe =  [1] - classe trouvee =  1\n",
      "exemple: 37  vraie classe =  [-1] - classe trouvee =  -1\n",
      "exemple: 38  vraie classe =  [1] - classe trouvee =  1\n",
      "exemple: 39  vraie classe =  [-1] - classe trouvee =  -1\n",
      "\n",
      "accuracy totale: 1.0\n"
     ]
    },
    {
     "data": {
      "image/png": "[encoded data removed]",
      "text/plain": [
       "<Figure size 432x288 with 1 Axes>"
      ]
     },
     "metadata": {},
     "output_type": "display_data"
    }
   ],
   "source": [
    "autre_set=ut.createGaussianDataset(np.array([1,1]),np.array([[1,0],[0,1]]),np.array([-1,-1]),np.array([[1,0],[0,1]]),20)\n",
    "\n",
    "foret = ClassifierBaggingTree(10,0.3,0.0,True)\n",
    "foret.train(autre_set)\n",
    "for i in range(autre_set.size()):\n",
    "    print(\"exemple:\",i,\" vraie classe = \", autre_set.getY(i), \"- classe trouvee = \", foret.predict(autre_set.getX(i)))\n",
    "    \n",
    "ut.plot_frontiere(autre_set,foret,20)\n",
    "ut.plot2DSet(autre_set) \n",
    "\n",
    "print(\"\\naccuracy totale:\",foret.accuracy(autre_set))"
   ]
  },
  {
   "cell_type": "markdown",
   "metadata": {},
   "source": [
    "### Expérimentations\n",
    "\n",
    "<font color=\"RED\" size=\"+1\">**[Q]**</font> Expérimenter l'algorithme précédent de la façon suivante :\n",
    "- générer une base d'apprentissage $X$ contenant au moins 1000 exemples ;\n",
    "- réaliser un échantillon de cette base contenant 50 exemples de chaque classe. Soit $E$ cet échantillon, et soit $F$ l'ensemble des exemples de $X$ qui ne sont pas dans $E$ ;\n",
    "- réaliser un apprentissage par bagging sur $F$ et évaluer le taux de prédiction du modèle obtenu sur $E$ ;\n",
    "- construire la courbe donnant le taux de prédiction obtenu en augmentant la taille de la forêt d'arbres de 1 à 20 arbres. "
   ]
  },
  {
   "cell_type": "code",
   "execution_count": 41,
   "metadata": {},
   "outputs": [
    {
     "ename": "NameError",
     "evalue": "name 'classe' is not defined",
     "output_type": "error",
     "traceback": [
      "\u001b[0;31m---------------------------------------------------------------------------\u001b[0m",
      "\u001b[0;31mNameError\u001b[0m                                 Traceback (most recent call last)",
      "\u001b[0;32m<ipython-input-41-e11b7df35e72>\u001b[0m in \u001b[0;36m<module>\u001b[0;34m()\u001b[0m\n\u001b[1;32m     18\u001b[0m \u001b[0;34m\u001b[0m\u001b[0m\n\u001b[1;32m     19\u001b[0m \u001b[0;34m\u001b[0m\u001b[0m\n\u001b[0;32m---> 20\u001b[0;31m \u001b[0mE\u001b[0m \u001b[0;34m=\u001b[0m \u001b[0mtrie_classe\u001b[0m\u001b[0;34m(\u001b[0m\u001b[0mbase\u001b[0m\u001b[0;34m,\u001b[0m\u001b[0;36m2\u001b[0m\u001b[0;34m,\u001b[0m\u001b[0;36m50\u001b[0m\u001b[0;34m)\u001b[0m\u001b[0;34m\u001b[0m\u001b[0m\n\u001b[0m",
      "\u001b[0;32m<ipython-input-41-e11b7df35e72>\u001b[0m in \u001b[0;36mtrie_classe\u001b[0;34m(LSet, nb_classe, nb_exemple)\u001b[0m\n\u001b[1;32m     11\u001b[0m         \u001b[0;32mfor\u001b[0m \u001b[0mi\u001b[0m \u001b[0;32min\u001b[0m \u001b[0ml\u001b[0m\u001b[0;34m:\u001b[0m\u001b[0;34m\u001b[0m\u001b[0m\n\u001b[1;32m     12\u001b[0m             \u001b[0;32mif\u001b[0m\u001b[0;34m(\u001b[0m\u001b[0mE\u001b[0m\u001b[0;34m.\u001b[0m\u001b[0msize\u001b[0m\u001b[0;34m(\u001b[0m\u001b[0;34m)\u001b[0m\u001b[0;34m<\u001b[0m\u001b[0mnb_exemple\u001b[0m\u001b[0;34m)\u001b[0m\u001b[0;34m:\u001b[0m\u001b[0;34m\u001b[0m\u001b[0m\n\u001b[0;32m---> 13\u001b[0;31m                 \u001b[0;32mif\u001b[0m\u001b[0;34m(\u001b[0m\u001b[0mLSet\u001b[0m\u001b[0;34m.\u001b[0m\u001b[0mgetY\u001b[0m\u001b[0;34m(\u001b[0m\u001b[0mi\u001b[0m\u001b[0;34m)\u001b[0m \u001b[0;34m==\u001b[0m \u001b[0mclasse\u001b[0m\u001b[0;34m)\u001b[0m\u001b[0;34m:\u001b[0m\u001b[0;34m\u001b[0m\u001b[0m\n\u001b[0m\u001b[1;32m     14\u001b[0m                     \u001b[0mE\u001b[0m\u001b[0;34m.\u001b[0m\u001b[0maddExample\u001b[0m\u001b[0;34m(\u001b[0m\u001b[0mLSet\u001b[0m\u001b[0;34m.\u001b[0m\u001b[0mgetX\u001b[0m\u001b[0;34m(\u001b[0m\u001b[0mi\u001b[0m\u001b[0;34m)\u001b[0m\u001b[0;34m,\u001b[0m\u001b[0mLSet\u001b[0m\u001b[0;34m.\u001b[0m\u001b[0mgetY\u001b[0m\u001b[0;34m(\u001b[0m\u001b[0mi\u001b[0m\u001b[0;34m)\u001b[0m\u001b[0;34m)\u001b[0m\u001b[0;34m\u001b[0m\u001b[0m\n\u001b[1;32m     15\u001b[0m             \u001b[0;32melse\u001b[0m\u001b[0;34m:\u001b[0m\u001b[0;34m\u001b[0m\u001b[0m\n",
      "\u001b[0;31mNameError\u001b[0m: name 'classe' is not defined"
     ]
    }
   ],
   "source": [
    "base = ut.createGaussianDataset(np.array([1,1]),np.array([[1,0],[0,1]]),np.array([-1,-1]),np.array([[1,0],[0,1]]),500)\n",
    "\n",
    "def trie_classe(LSet, nb_classe, nb_exemple):\n",
    "    E = ls.LabeledSet(LSet.getInputDimension())\n",
    "    F = ls.LabeledSet(LSet.getInputDimension())\n",
    "    taille_set = nb_exemple*nb_classe\n",
    "    \n",
    "    while(E.size()<= taille_set):\n",
    "        LSet_liste = [i for i in range(LSet.size())]\n",
    "        l=random.sample(LSet_liste,nb_exemple*nb_classe)\n",
    "        for i in l:\n",
    "            if(E.size() < nb_exemple):\n",
    "                if(LSet.getY(i) == classe):\n",
    "                    E.addExample(LSet.getX(i),LSet.getY(i))\n",
    "            else:\n",
    "                return E,F             \n",
    "    return E,F\n",
    "\n",
    "\n",
    "E = trie_classe(base,2,50)\n",
    "\n"
   ]
  },
  {
   "cell_type": "code",
   "execution_count": 36,
   "metadata": {},
   "outputs": [
    {
     "name": "stdout",
     "output_type": "stream",
     "text": [
      "Bagging : 20 trees: accuracy totale: train=1.0000 test=1.0000\n"
     ]
    }
   ],
   "source": [
    "# Réaliser un apprentissage par bagging sur E et évaluer le taux de prédiction du modèle sur F\n",
    "foret20 =  ClassifierBaggingTree(20,0.3,0.0,True)\n",
    "foret20.train(E)\n",
    "print(\"Bagging : 20 trees: accuracy totale: train=%.4f test=%.4f\"%(foret20.accuracy(E),foret20.accuracy(F)))"
   ]
  },
  {
   "cell_type": "code",
   "execution_count": 37,
   "metadata": {},
   "outputs": [
    {
     "data": {
      "image/png": "[encoded data removed]",
      "text/plain": [
       "<Figure size 432x288 with 1 Axes>"
      ]
     },
     "metadata": {},
     "output_type": "display_data"
    }
   ],
   "source": [
    "nb_arbre = []\n",
    "predict = []\n",
    "train = []\n",
    "for i in range(20):\n",
    "    nb_arbre.append(i)\n",
    "    foret20 =  ClassifierBaggingTree(i,0.3,0.0,True)\n",
    "    foret20.train(E)\n",
    "    train.append(foret20.accuracy(E))\n",
    "    predict.append()\n",
    "plt.plot(nb_arbre, )    \n",
    "plt.plot(nb_arbre,predict)\n",
    "plt.show()"
   ]
  },
  {
   "cell_type": "code",
   "execution_count": null,
   "metadata": {},
   "outputs": [],
   "source": [
    "Actrain= []\n",
    "Actest= []\n",
    "\n",
    "Actrain.append(perceptron_k.accuracy(train))\n",
    "Actest.append(perceptron_k.accuracy(train))\n",
    "\n",
    "for i in range(N):\n",
    "    perceptron_k.train(train)\n",
    "    Actrain.append(perceptron_k.accuracy(train))\n",
    "    Actest.append(perceptron_k.accuracy(test))\n",
    "\n",
    "#ut.plot_frontiere(base,cps)\n",
    "#ut.plot2DSet(base)\n",
    "\n",
    "\n",
    "plt.plot(range(len(Actrain)),Actrain)\n",
    "plt.plot(range(len(Actest)),Actest)\n",
    "plt.show()"
   ]
  },
  {
   "cell_type": "markdown",
   "metadata": {},
   "source": [
    "### Evaluation par la méthode \"Out Of Bags\"\n",
    "\n",
    "<font color=\"RED\" size=\"+1\">**[Q]**</font> Sur les mêmes données, réaliser une évaluation par la méthode \"Out Of Bags\" vue en cours. Construire la courbe donnant le taux de prédiction OOB en fonction de la taille de la forêt d'arbres.\n",
    "\n",
    "Pour cela, écrire la classe <code>ClassifierBaggingTreeOOB</code> qui étend la classe d'un classifieur bagging pour prendre en compte la spécificité de l'approche OOB.\n",
    "Ainsi, à partir de $\\mathcal{X}$, l'ensemble des données d'apprentissage, chaque arbre $A_i$ de la forêt est associé à 2 sous-ensembles de $\\mathcal{X}$: \n",
    "- $\\mathcal{X}_i$: l'échantillon bootstrap qui sert à construire l'arbre $A_i$\n",
    "- $\\mathcal{T}_i$: l'ensemble des exemples OOB associés à l'arbre $A_i$\n",
    "\n",
    "Le calcul du taux de bonne classification s'effectuera comme suit:\n",
    "- soit $t_i$ le taux de bonne classification de $A_i$ pour l'ensemble OOB $\\mathcal{T}_i$\n",
    "- le taux de global de bonne classification de la forêt d'arbres $A_1$,..., $A_B$ est donné par $\\frac{1}{B}\\sum_{i=1}^{B} t_i$\n"
   ]
  },
  {
   "cell_type": "code",
   "execution_count": null,
   "metadata": {},
   "outputs": [],
   "source": [
    "class ClassifierBaggingTreeOOB(ClassifierBaggingTree):\n",
    "    def __init__(self, nb_arbre, learn, epsilon, r):\n",
    "        self.nb_arbre = nb_arbre\n",
    "        self.learn = learn\n",
    "        self.epsilon = epsilon\n",
    "        self.r = r\n",
    "        self.ens = set()\n",
    "     \n",
    "    def predict(self,x):\n",
    "        \n",
    "        labelpos = 0\n",
    "        labelneg = 0\n",
    "        for i in self.ens:\n",
    "            if(i.classifie(x) == 1):\n",
    "                labelpos += 1\n",
    "            else:\n",
    "                labelneg += 1\n",
    "        if(labelpos > labelneg):\n",
    "            return 1\n",
    "        elif(labelneg > labelpos):\n",
    "            return -1\n",
    "    \n",
    "    def train(self, LSet):\n",
    "        \n",
    "        for i in range(self.nb_arbre):\n",
    "            taille_echantillon = int (LSet.size()* self.learn)\n",
    "            LSet_echantillon = echantillonLS(LSet, taille_echantillon,False)\n",
    "            self.ens.add(construit_AD(LSet, self.epsilon))\n",
    "        return self.ens\n",
    "    \n",
    "    def accuracy(self, dataset):\n",
    "        \"\"\" Permet de calculer la qualité du système \n",
    "        \"\"\"\n",
    "        res = 0\n",
    "        for i in range(dataset.size()):\n",
    "            if(self.predict(dataset.getX(i))==dataset.getY(i)):\n",
    "                res+=1\n",
    "        return res/dataset.size()\n",
    "    "
   ]
  },
  {
   "cell_type": "code",
   "execution_count": null,
   "metadata": {},
   "outputs": [],
   "source": []
  },
  {
   "cell_type": "markdown",
   "metadata": {
    "collapsed": true
   },
   "source": [
    "## Etape 3: Random forests\n",
    "\n",
    "<font color=\"RED\" size=\"+1\">**[Q]**</font> Ecrire et tester la classe <code>ClassifierRandomForest</code> qui implémente l'algorithme des random forests vu en cours.\n",
    "\n",
    "Pour cela, vous devrez:\n",
    "- définir une méthode <code>construit_AD_aleatoire(LSet,epsilon,nbatt)</code> qui utilise $nbatt$ attributs choisis aléatoirement à chaque niveau de la construction de l'arbre\n",
    "- définir une nouvelle classe <code>ArbreDecisionAleatoire</code> qui étend la classe <code>ArbreDecision</code> en surchargeant la méthode <code>train</code>. Le constructeur d'un tel arbre prendra en argument le nombre d'attributs à utiliser lors de la construction de l'arbre."
   ]
  },
  {
   "cell_type": "code",
   "execution_count": null,
   "metadata": {},
   "outputs": [],
   "source": []
  },
  {
   "cell_type": "markdown",
   "metadata": {},
   "source": [
    "## Etape 4: expérimentation\n",
    "\n",
    "<font color=\"RED\" size=\"+1\">**[Q]**</font> Comparer le bagging d'arbres et les random forests sur d'autres bases d'apprentissage (réelles ou générées aléatoirement). Construire la courbe donnant le taux de prédiction pour une forêt d'arbres variant de 1 à 100 arbres (cela peut prendre du temps, tester sur un nombre réduit d'arbres dans un premier temps)."
   ]
  },
  {
   "cell_type": "code",
   "execution_count": null,
   "metadata": {},
   "outputs": [],
   "source": []
  },
  {
   "cell_type": "markdown",
   "metadata": {},
   "source": [
    "## Exercices à faire chez vous (sur papier)\n",
    "\n",
    "Pour vous entraîner sans machine... *(exercice de l'examen 2017)*\n",
    "\n",
    "Soit $V=\\{v_{1}, v_{2},..., v_{n}\\}$ un ensemble de $n$ valeurs réelles ordonnées,\n",
    "  telles que $v_1 \\geq v_2 \\geq \\ldots \\geq v_{n}$.. On note $\\bar{v}$ la valeur moyenne de $V$. La variance de $V$, $var(V)$ est définie par:\n",
    "$var(V) = \\frac{1}{n} \\sum_{i=1}^{n} (v_{i} - \\bar{v})^2$. \n",
    "\n",
    "Et soit $W=\\{w_{1}, w_{2},..., w_{n}\\}$ tel que,pour tout $i=1,...,n$.\n",
    "\n",
    "\n",
    "** [Q] ** Donner l'expression de $\\bar{v}$ en fonction des valeurs de $V$.\n",
    "\n",
    "** [Q] **  Montrer que $var(aV+b) = a^2 var(V)$.\n",
    "\n",
    "** [Q] ** Donner l'expression de $V\\cdot W$ (le produit scalaire) en fonction des coordonnées\n",
    "   de $V$ et de $W$.\n",
    "   \n",
    "** [Q] ** Comment doit-on définir $W$ si on souhaite que $V\\cdot W = \\bar{v}$ ?\n",
    "\n",
    "\n",
    "** [Q] ** Comment doit-on définir $W$ si on souhaite que\n",
    "   $V\\cdot W = \\displaystyle\\max_{i=1,...n} v_i$ ? Même question si on souhaite que\n",
    "   $V\\cdot W = \\displaystyle\\min_{i=1,...n} v_i$ ?\n",
    "\n",
    "** [Q] ** Soit un entier $k$ tel que $0<k\\leq n$. Proposer une définition de $W$ qui, par le\n",
    "   calcul du produit scalaire, permet de ne tenir compte, de façon équitable, que des $k$\n",
    "   valeurs les plus élevées de $V$.\n",
    "\n"
   ]
  },
  {
   "cell_type": "code",
   "execution_count": null,
   "metadata": {},
   "outputs": [],
   "source": []
  }
 ],
 "metadata": {
  "kernelspec": {
   "display_name": "Python 3",
   "language": "python",
   "name": "python3"
  },
  "language_info": {
   "codemirror_mode": {
    "name": "ipython",
    "version": 3
   },
   "file_extension": ".py",
   "mimetype": "text/x-python",
   "name": "python",
   "nbconvert_exporter": "python",
   "pygments_lexer": "ipython3",
   "version": "3.5.3"
  }
 },
 "nbformat": 4,
 "nbformat_minor": 1
}
